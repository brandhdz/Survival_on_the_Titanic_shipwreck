{
 "cells": [
  {
   "cell_type": "markdown",
   "id": "e549b36f",
   "metadata": {},
   "source": [
    "# Survival on the Titanic shipwreck"
   ]
  },
  {
   "cell_type": "markdown",
   "id": "ea6e4024",
   "metadata": {},
   "source": [
    "Our goal is to use machine learning to create a model that predicts which passengers survived the Titanic shipwreck. We are going to use the logistic regression as a classification model. We will apply it on a shallow analysis of the dataset and subsequently we will improve the model by a deeper EDA and a feature selection.\n",
    "\n",
    "The data is taken from the Titanic ML competition, already split into two groups:\n",
    "\n",
    "- training set (train.csv)\n",
    "- test set (test.csv)"
   ]
  },
  {
   "cell_type": "markdown",
   "id": "01147956",
   "metadata": {},
   "source": [
    "# 0. Import libraries"
   ]
  },
  {
   "cell_type": "code",
   "execution_count": 87,
   "id": "c5ab9b93",
   "metadata": {},
   "outputs": [],
   "source": [
    "import pandas as pd\n",
    "import numpy as np\n",
    "import matplotlib.pyplot as plt\n",
    "import seaborn as sns\n",
    "\n",
    "from sklearn.model_selection import train_test_split\n",
    "from sklearn.model_selection import learning_curve\n",
    "from sklearn.model_selection import validation_curve\n",
    "from sklearn.model_selection import cross_val_score\n",
    "from sklearn.linear_model import LogisticRegression\n",
    "\n",
    "from scipy.stats import boxcox\n",
    "from sklearn.preprocessing import MinMaxScaler\n",
    "from sklearn.preprocessing import PolynomialFeatures\n",
    "from sklearn.feature_selection import SelectKBest\n",
    "from sklearn.feature_selection import chi2\n",
    "\n",
    "import warnings\n",
    "warnings.filterwarnings('ignore')\n",
    "%matplotlib inline"
   ]
  },
  {
   "cell_type": "markdown",
   "id": "d6443fc1",
   "metadata": {},
   "source": [
    "# 1. Overview"
   ]
  },
  {
   "cell_type": "code",
   "execution_count": 2,
   "id": "9a494813",
   "metadata": {},
   "outputs": [],
   "source": [
    "df = pd.read_csv('train.csv')\n",
    "df_org = df.copy()      "
   ]
  },
  {
   "cell_type": "code",
   "execution_count": 3,
   "id": "d024c07a",
   "metadata": {},
   "outputs": [
    {
     "data": {
      "text/html": [
       "<div>\n",
       "<style scoped>\n",
       "    .dataframe tbody tr th:only-of-type {\n",
       "        vertical-align: middle;\n",
       "    }\n",
       "\n",
       "    .dataframe tbody tr th {\n",
       "        vertical-align: top;\n",
       "    }\n",
       "\n",
       "    .dataframe thead th {\n",
       "        text-align: right;\n",
       "    }\n",
       "</style>\n",
       "<table border=\"1\" class=\"dataframe\">\n",
       "  <thead>\n",
       "    <tr style=\"text-align: right;\">\n",
       "      <th></th>\n",
       "      <th>PassengerId</th>\n",
       "      <th>Survived</th>\n",
       "      <th>Pclass</th>\n",
       "      <th>Name</th>\n",
       "      <th>Sex</th>\n",
       "      <th>Age</th>\n",
       "      <th>SibSp</th>\n",
       "      <th>Parch</th>\n",
       "      <th>Ticket</th>\n",
       "      <th>Fare</th>\n",
       "      <th>Cabin</th>\n",
       "      <th>Embarked</th>\n",
       "    </tr>\n",
       "  </thead>\n",
       "  <tbody>\n",
       "    <tr>\n",
       "      <th>0</th>\n",
       "      <td>1</td>\n",
       "      <td>0</td>\n",
       "      <td>3</td>\n",
       "      <td>Braund, Mr. Owen Harris</td>\n",
       "      <td>male</td>\n",
       "      <td>22.0</td>\n",
       "      <td>1</td>\n",
       "      <td>0</td>\n",
       "      <td>A/5 21171</td>\n",
       "      <td>7.2500</td>\n",
       "      <td>NaN</td>\n",
       "      <td>S</td>\n",
       "    </tr>\n",
       "    <tr>\n",
       "      <th>1</th>\n",
       "      <td>2</td>\n",
       "      <td>1</td>\n",
       "      <td>1</td>\n",
       "      <td>Cumings, Mrs. John Bradley (Florence Briggs Th...</td>\n",
       "      <td>female</td>\n",
       "      <td>38.0</td>\n",
       "      <td>1</td>\n",
       "      <td>0</td>\n",
       "      <td>PC 17599</td>\n",
       "      <td>71.2833</td>\n",
       "      <td>C85</td>\n",
       "      <td>C</td>\n",
       "    </tr>\n",
       "    <tr>\n",
       "      <th>2</th>\n",
       "      <td>3</td>\n",
       "      <td>1</td>\n",
       "      <td>3</td>\n",
       "      <td>Heikkinen, Miss. Laina</td>\n",
       "      <td>female</td>\n",
       "      <td>26.0</td>\n",
       "      <td>0</td>\n",
       "      <td>0</td>\n",
       "      <td>STON/O2. 3101282</td>\n",
       "      <td>7.9250</td>\n",
       "      <td>NaN</td>\n",
       "      <td>S</td>\n",
       "    </tr>\n",
       "    <tr>\n",
       "      <th>3</th>\n",
       "      <td>4</td>\n",
       "      <td>1</td>\n",
       "      <td>1</td>\n",
       "      <td>Futrelle, Mrs. Jacques Heath (Lily May Peel)</td>\n",
       "      <td>female</td>\n",
       "      <td>35.0</td>\n",
       "      <td>1</td>\n",
       "      <td>0</td>\n",
       "      <td>113803</td>\n",
       "      <td>53.1000</td>\n",
       "      <td>C123</td>\n",
       "      <td>S</td>\n",
       "    </tr>\n",
       "    <tr>\n",
       "      <th>4</th>\n",
       "      <td>5</td>\n",
       "      <td>0</td>\n",
       "      <td>3</td>\n",
       "      <td>Allen, Mr. William Henry</td>\n",
       "      <td>male</td>\n",
       "      <td>35.0</td>\n",
       "      <td>0</td>\n",
       "      <td>0</td>\n",
       "      <td>373450</td>\n",
       "      <td>8.0500</td>\n",
       "      <td>NaN</td>\n",
       "      <td>S</td>\n",
       "    </tr>\n",
       "  </tbody>\n",
       "</table>\n",
       "</div>"
      ],
      "text/plain": [
       "   PassengerId  Survived  Pclass  \\\n",
       "0            1         0       3   \n",
       "1            2         1       1   \n",
       "2            3         1       3   \n",
       "3            4         1       1   \n",
       "4            5         0       3   \n",
       "\n",
       "                                                Name     Sex   Age  SibSp  \\\n",
       "0                            Braund, Mr. Owen Harris    male  22.0      1   \n",
       "1  Cumings, Mrs. John Bradley (Florence Briggs Th...  female  38.0      1   \n",
       "2                             Heikkinen, Miss. Laina  female  26.0      0   \n",
       "3       Futrelle, Mrs. Jacques Heath (Lily May Peel)  female  35.0      1   \n",
       "4                           Allen, Mr. William Henry    male  35.0      0   \n",
       "\n",
       "   Parch            Ticket     Fare Cabin Embarked  \n",
       "0      0         A/5 21171   7.2500   NaN        S  \n",
       "1      0          PC 17599  71.2833   C85        C  \n",
       "2      0  STON/O2. 3101282   7.9250   NaN        S  \n",
       "3      0            113803  53.1000  C123        S  \n",
       "4      0            373450   8.0500   NaN        S  "
      ]
     },
     "execution_count": 3,
     "metadata": {},
     "output_type": "execute_result"
    }
   ],
   "source": [
    "df.head()"
   ]
  },
  {
   "cell_type": "markdown",
   "id": "390ef341",
   "metadata": {},
   "source": [
    "Columns definitions:\n",
    "\n",
    "- **PassengerId**. Unique identification of the passenger.\n",
    "- **Survived.** Survival (0 = No, 1 = Yes). Our target variable.\n",
    "- **Pclass.** Ticket class (1 = 1st, 2 = 2nd, 3 = 3rd).\n",
    "- **Name.** Name of the passenger. \n",
    "- **Sex.** Sex.\n",
    "- **Age.** Age in years.\n",
    "- **SibSp.** # of siblings / spouses aboard the Titanic.\n",
    "- **Parch.** # of parents / children aboard the Titanic.\n",
    "- **Ticket.** Ticket number. \n",
    "- **Fare.** Passenger fare. \n",
    "- **Cabin.** Cabin number.\n",
    "- **Embarked.** Port of Embarkation (C = Cherbourg, Q = Queenstown, S = Southampton).\n",
    "\n",
    "We already have a set of features that we can easily use in a machine learning model. Other features, like 'Name', 'Ticket', and 'Fare', require an additional effort before we can integrate them."
   ]
  },
  {
   "cell_type": "code",
   "execution_count": 20,
   "id": "1c707018",
   "metadata": {},
   "outputs": [
    {
     "data": {
      "text/html": [
       "<div>\n",
       "<style scoped>\n",
       "    .dataframe tbody tr th:only-of-type {\n",
       "        vertical-align: middle;\n",
       "    }\n",
       "\n",
       "    .dataframe tbody tr th {\n",
       "        vertical-align: top;\n",
       "    }\n",
       "\n",
       "    .dataframe thead th {\n",
       "        text-align: right;\n",
       "    }\n",
       "</style>\n",
       "<table border=\"1\" class=\"dataframe\">\n",
       "  <thead>\n",
       "    <tr style=\"text-align: right;\">\n",
       "      <th></th>\n",
       "      <th>PassengerId</th>\n",
       "      <th>Survived</th>\n",
       "      <th>Pclass</th>\n",
       "      <th>Age</th>\n",
       "      <th>SibSp</th>\n",
       "      <th>Parch</th>\n",
       "      <th>Fare</th>\n",
       "    </tr>\n",
       "  </thead>\n",
       "  <tbody>\n",
       "    <tr>\n",
       "      <th>count</th>\n",
       "      <td>891.000000</td>\n",
       "      <td>891.000000</td>\n",
       "      <td>891.000000</td>\n",
       "      <td>714.000000</td>\n",
       "      <td>891.000000</td>\n",
       "      <td>891.000000</td>\n",
       "      <td>891.000000</td>\n",
       "    </tr>\n",
       "    <tr>\n",
       "      <th>mean</th>\n",
       "      <td>446.000000</td>\n",
       "      <td>0.383838</td>\n",
       "      <td>2.308642</td>\n",
       "      <td>29.699118</td>\n",
       "      <td>0.523008</td>\n",
       "      <td>0.381594</td>\n",
       "      <td>32.204208</td>\n",
       "    </tr>\n",
       "    <tr>\n",
       "      <th>std</th>\n",
       "      <td>257.353842</td>\n",
       "      <td>0.486592</td>\n",
       "      <td>0.836071</td>\n",
       "      <td>14.526497</td>\n",
       "      <td>1.102743</td>\n",
       "      <td>0.806057</td>\n",
       "      <td>49.693429</td>\n",
       "    </tr>\n",
       "    <tr>\n",
       "      <th>min</th>\n",
       "      <td>1.000000</td>\n",
       "      <td>0.000000</td>\n",
       "      <td>1.000000</td>\n",
       "      <td>0.420000</td>\n",
       "      <td>0.000000</td>\n",
       "      <td>0.000000</td>\n",
       "      <td>0.000000</td>\n",
       "    </tr>\n",
       "    <tr>\n",
       "      <th>25%</th>\n",
       "      <td>223.500000</td>\n",
       "      <td>0.000000</td>\n",
       "      <td>2.000000</td>\n",
       "      <td>20.125000</td>\n",
       "      <td>0.000000</td>\n",
       "      <td>0.000000</td>\n",
       "      <td>7.910400</td>\n",
       "    </tr>\n",
       "    <tr>\n",
       "      <th>50%</th>\n",
       "      <td>446.000000</td>\n",
       "      <td>0.000000</td>\n",
       "      <td>3.000000</td>\n",
       "      <td>28.000000</td>\n",
       "      <td>0.000000</td>\n",
       "      <td>0.000000</td>\n",
       "      <td>14.454200</td>\n",
       "    </tr>\n",
       "    <tr>\n",
       "      <th>75%</th>\n",
       "      <td>668.500000</td>\n",
       "      <td>1.000000</td>\n",
       "      <td>3.000000</td>\n",
       "      <td>38.000000</td>\n",
       "      <td>1.000000</td>\n",
       "      <td>0.000000</td>\n",
       "      <td>31.000000</td>\n",
       "    </tr>\n",
       "    <tr>\n",
       "      <th>max</th>\n",
       "      <td>891.000000</td>\n",
       "      <td>1.000000</td>\n",
       "      <td>3.000000</td>\n",
       "      <td>80.000000</td>\n",
       "      <td>8.000000</td>\n",
       "      <td>6.000000</td>\n",
       "      <td>512.329200</td>\n",
       "    </tr>\n",
       "  </tbody>\n",
       "</table>\n",
       "</div>"
      ],
      "text/plain": [
       "       PassengerId    Survived      Pclass         Age       SibSp  \\\n",
       "count   891.000000  891.000000  891.000000  714.000000  891.000000   \n",
       "mean    446.000000    0.383838    2.308642   29.699118    0.523008   \n",
       "std     257.353842    0.486592    0.836071   14.526497    1.102743   \n",
       "min       1.000000    0.000000    1.000000    0.420000    0.000000   \n",
       "25%     223.500000    0.000000    2.000000   20.125000    0.000000   \n",
       "50%     446.000000    0.000000    3.000000   28.000000    0.000000   \n",
       "75%     668.500000    1.000000    3.000000   38.000000    1.000000   \n",
       "max     891.000000    1.000000    3.000000   80.000000    8.000000   \n",
       "\n",
       "            Parch        Fare  \n",
       "count  891.000000  891.000000  \n",
       "mean     0.381594   32.204208  \n",
       "std      0.806057   49.693429  \n",
       "min      0.000000    0.000000  \n",
       "25%      0.000000    7.910400  \n",
       "50%      0.000000   14.454200  \n",
       "75%      0.000000   31.000000  \n",
       "max      6.000000  512.329200  "
      ]
     },
     "execution_count": 20,
     "metadata": {},
     "output_type": "execute_result"
    }
   ],
   "source": [
    "df.describe()"
   ]
  },
  {
   "cell_type": "markdown",
   "id": "f338dd5b",
   "metadata": {},
   "source": [
    "- **Min and max values.** All the min and max values seem reasonable and in a reasonable range of values. The only exception could eventually be the max value of 'Fare', but for now we will leave it as it is.\n",
    "- **Mean and standard deviation.** There's nothing that looks like obviously wrong.\n",
    "- **Count.** We can see that some 'Age' data is missing."
   ]
  },
  {
   "cell_type": "markdown",
   "id": "5b39941a",
   "metadata": {},
   "source": [
    "## Missing data"
   ]
  },
  {
   "cell_type": "code",
   "execution_count": 22,
   "id": "1a4e177e",
   "metadata": {},
   "outputs": [
    {
     "data": {
      "text/html": [
       "<div>\n",
       "<style scoped>\n",
       "    .dataframe tbody tr th:only-of-type {\n",
       "        vertical-align: middle;\n",
       "    }\n",
       "\n",
       "    .dataframe tbody tr th {\n",
       "        vertical-align: top;\n",
       "    }\n",
       "\n",
       "    .dataframe thead th {\n",
       "        text-align: right;\n",
       "    }\n",
       "</style>\n",
       "<table border=\"1\" class=\"dataframe\">\n",
       "  <thead>\n",
       "    <tr style=\"text-align: right;\">\n",
       "      <th></th>\n",
       "      <th>Total</th>\n",
       "      <th>Percent</th>\n",
       "    </tr>\n",
       "  </thead>\n",
       "  <tbody>\n",
       "    <tr>\n",
       "      <th>Cabin</th>\n",
       "      <td>687</td>\n",
       "      <td>0.771044</td>\n",
       "    </tr>\n",
       "    <tr>\n",
       "      <th>Age</th>\n",
       "      <td>177</td>\n",
       "      <td>0.198653</td>\n",
       "    </tr>\n",
       "    <tr>\n",
       "      <th>Embarked</th>\n",
       "      <td>2</td>\n",
       "      <td>0.002245</td>\n",
       "    </tr>\n",
       "    <tr>\n",
       "      <th>PassengerId</th>\n",
       "      <td>0</td>\n",
       "      <td>0.000000</td>\n",
       "    </tr>\n",
       "    <tr>\n",
       "      <th>Survived</th>\n",
       "      <td>0</td>\n",
       "      <td>0.000000</td>\n",
       "    </tr>\n",
       "    <tr>\n",
       "      <th>Pclass</th>\n",
       "      <td>0</td>\n",
       "      <td>0.000000</td>\n",
       "    </tr>\n",
       "    <tr>\n",
       "      <th>Name</th>\n",
       "      <td>0</td>\n",
       "      <td>0.000000</td>\n",
       "    </tr>\n",
       "    <tr>\n",
       "      <th>Sex</th>\n",
       "      <td>0</td>\n",
       "      <td>0.000000</td>\n",
       "    </tr>\n",
       "    <tr>\n",
       "      <th>SibSp</th>\n",
       "      <td>0</td>\n",
       "      <td>0.000000</td>\n",
       "    </tr>\n",
       "    <tr>\n",
       "      <th>Parch</th>\n",
       "      <td>0</td>\n",
       "      <td>0.000000</td>\n",
       "    </tr>\n",
       "    <tr>\n",
       "      <th>Ticket</th>\n",
       "      <td>0</td>\n",
       "      <td>0.000000</td>\n",
       "    </tr>\n",
       "    <tr>\n",
       "      <th>Fare</th>\n",
       "      <td>0</td>\n",
       "      <td>0.000000</td>\n",
       "    </tr>\n",
       "  </tbody>\n",
       "</table>\n",
       "</div>"
      ],
      "text/plain": [
       "             Total   Percent\n",
       "Cabin          687  0.771044\n",
       "Age            177  0.198653\n",
       "Embarked         2  0.002245\n",
       "PassengerId      0  0.000000\n",
       "Survived         0  0.000000\n",
       "Pclass           0  0.000000\n",
       "Name             0  0.000000\n",
       "Sex              0  0.000000\n",
       "SibSp            0  0.000000\n",
       "Parch            0  0.000000\n",
       "Ticket           0  0.000000\n",
       "Fare             0  0.000000"
      ]
     },
     "execution_count": 22,
     "metadata": {},
     "output_type": "execute_result"
    }
   ],
   "source": [
    "total = df.isnull().sum().sort_values(ascending = False)\n",
    "percent = (df.isnull().sum()/df.isnull().count()).sort_values(ascending = False)\n",
    "md = pd.concat([total, percent], axis = 1, keys = ['Total', 'Percent'] )\n",
    "md"
   ]
  },
  {
   "cell_type": "markdown",
   "id": "88f093e8",
   "metadata": {},
   "source": [
    "- 'Cabin' has too many missing values (>25%). \n",
    "- 'Age' can be imputed. For now, we'll associate a value that allows us to know that we're imputing data.\n",
    "\n",
    "Due to the low percentage of missing values, we'll delete the observations where we don't know 'Embarked'."
   ]
  },
  {
   "cell_type": "code",
   "execution_count": 23,
   "id": "8d4f13f3",
   "metadata": {},
   "outputs": [
    {
     "data": {
      "text/html": [
       "<div>\n",
       "<style scoped>\n",
       "    .dataframe tbody tr th:only-of-type {\n",
       "        vertical-align: middle;\n",
       "    }\n",
       "\n",
       "    .dataframe tbody tr th {\n",
       "        vertical-align: top;\n",
       "    }\n",
       "\n",
       "    .dataframe thead th {\n",
       "        text-align: right;\n",
       "    }\n",
       "</style>\n",
       "<table border=\"1\" class=\"dataframe\">\n",
       "  <thead>\n",
       "    <tr style=\"text-align: right;\">\n",
       "      <th></th>\n",
       "      <th>PassengerId</th>\n",
       "      <th>Survived</th>\n",
       "      <th>Pclass</th>\n",
       "      <th>Name</th>\n",
       "      <th>Sex</th>\n",
       "      <th>Age</th>\n",
       "      <th>SibSp</th>\n",
       "      <th>Parch</th>\n",
       "      <th>Ticket</th>\n",
       "      <th>Fare</th>\n",
       "      <th>Embarked</th>\n",
       "    </tr>\n",
       "  </thead>\n",
       "  <tbody>\n",
       "    <tr>\n",
       "      <th>0</th>\n",
       "      <td>1</td>\n",
       "      <td>0</td>\n",
       "      <td>3</td>\n",
       "      <td>Braund, Mr. Owen Harris</td>\n",
       "      <td>male</td>\n",
       "      <td>22.0</td>\n",
       "      <td>1</td>\n",
       "      <td>0</td>\n",
       "      <td>A/5 21171</td>\n",
       "      <td>7.2500</td>\n",
       "      <td>S</td>\n",
       "    </tr>\n",
       "    <tr>\n",
       "      <th>1</th>\n",
       "      <td>2</td>\n",
       "      <td>1</td>\n",
       "      <td>1</td>\n",
       "      <td>Cumings, Mrs. John Bradley (Florence Briggs Th...</td>\n",
       "      <td>female</td>\n",
       "      <td>38.0</td>\n",
       "      <td>1</td>\n",
       "      <td>0</td>\n",
       "      <td>PC 17599</td>\n",
       "      <td>71.2833</td>\n",
       "      <td>C</td>\n",
       "    </tr>\n",
       "    <tr>\n",
       "      <th>2</th>\n",
       "      <td>3</td>\n",
       "      <td>1</td>\n",
       "      <td>3</td>\n",
       "      <td>Heikkinen, Miss. Laina</td>\n",
       "      <td>female</td>\n",
       "      <td>26.0</td>\n",
       "      <td>0</td>\n",
       "      <td>0</td>\n",
       "      <td>STON/O2. 3101282</td>\n",
       "      <td>7.9250</td>\n",
       "      <td>S</td>\n",
       "    </tr>\n",
       "    <tr>\n",
       "      <th>3</th>\n",
       "      <td>4</td>\n",
       "      <td>1</td>\n",
       "      <td>1</td>\n",
       "      <td>Futrelle, Mrs. Jacques Heath (Lily May Peel)</td>\n",
       "      <td>female</td>\n",
       "      <td>35.0</td>\n",
       "      <td>1</td>\n",
       "      <td>0</td>\n",
       "      <td>113803</td>\n",
       "      <td>53.1000</td>\n",
       "      <td>S</td>\n",
       "    </tr>\n",
       "    <tr>\n",
       "      <th>4</th>\n",
       "      <td>5</td>\n",
       "      <td>0</td>\n",
       "      <td>3</td>\n",
       "      <td>Allen, Mr. William Henry</td>\n",
       "      <td>male</td>\n",
       "      <td>35.0</td>\n",
       "      <td>0</td>\n",
       "      <td>0</td>\n",
       "      <td>373450</td>\n",
       "      <td>8.0500</td>\n",
       "      <td>S</td>\n",
       "    </tr>\n",
       "  </tbody>\n",
       "</table>\n",
       "</div>"
      ],
      "text/plain": [
       "   PassengerId  Survived  Pclass  \\\n",
       "0            1         0       3   \n",
       "1            2         1       1   \n",
       "2            3         1       3   \n",
       "3            4         1       1   \n",
       "4            5         0       3   \n",
       "\n",
       "                                                Name     Sex   Age  SibSp  \\\n",
       "0                            Braund, Mr. Owen Harris    male  22.0      1   \n",
       "1  Cumings, Mrs. John Bradley (Florence Briggs Th...  female  38.0      1   \n",
       "2                             Heikkinen, Miss. Laina  female  26.0      0   \n",
       "3       Futrelle, Mrs. Jacques Heath (Lily May Peel)  female  35.0      1   \n",
       "4                           Allen, Mr. William Henry    male  35.0      0   \n",
       "\n",
       "   Parch            Ticket     Fare Embarked  \n",
       "0      0         A/5 21171   7.2500        S  \n",
       "1      0          PC 17599  71.2833        C  \n",
       "2      0  STON/O2. 3101282   7.9250        S  \n",
       "3      0            113803  53.1000        S  \n",
       "4      0            373450   8.0500        S  "
      ]
     },
     "execution_count": 23,
     "metadata": {},
     "output_type": "execute_result"
    }
   ],
   "source": [
    "df.drop('Cabin', axis = 1, inplace = True)\n",
    "df.head()"
   ]
  },
  {
   "cell_type": "code",
   "execution_count": 24,
   "id": "f00dddb2",
   "metadata": {},
   "outputs": [
    {
     "data": {
      "text/plain": [
       "1000.0"
      ]
     },
     "execution_count": 24,
     "metadata": {},
     "output_type": "execute_result"
    }
   ],
   "source": [
    "value = 1000\n",
    "df['Age'].fillna(value, inplace = True )\n",
    "df['Age'].max()"
   ]
  },
  {
   "cell_type": "code",
   "execution_count": 28,
   "id": "3aa2e7de",
   "metadata": {},
   "outputs": [
    {
     "data": {
      "text/html": [
       "<div>\n",
       "<style scoped>\n",
       "    .dataframe tbody tr th:only-of-type {\n",
       "        vertical-align: middle;\n",
       "    }\n",
       "\n",
       "    .dataframe tbody tr th {\n",
       "        vertical-align: top;\n",
       "    }\n",
       "\n",
       "    .dataframe thead th {\n",
       "        text-align: right;\n",
       "    }\n",
       "</style>\n",
       "<table border=\"1\" class=\"dataframe\">\n",
       "  <thead>\n",
       "    <tr style=\"text-align: right;\">\n",
       "      <th></th>\n",
       "      <th>PassengerId</th>\n",
       "      <th>Survived</th>\n",
       "      <th>Pclass</th>\n",
       "      <th>Name</th>\n",
       "      <th>Sex</th>\n",
       "      <th>Age</th>\n",
       "      <th>SibSp</th>\n",
       "      <th>Parch</th>\n",
       "      <th>Ticket</th>\n",
       "      <th>Fare</th>\n",
       "      <th>Embarked</th>\n",
       "    </tr>\n",
       "  </thead>\n",
       "  <tbody>\n",
       "  </tbody>\n",
       "</table>\n",
       "</div>"
      ],
      "text/plain": [
       "Empty DataFrame\n",
       "Columns: [PassengerId, Survived, Pclass, Name, Sex, Age, SibSp, Parch, Ticket, Fare, Embarked]\n",
       "Index: []"
      ]
     },
     "execution_count": 28,
     "metadata": {},
     "output_type": "execute_result"
    }
   ],
   "source": [
    "df.drop(df[pd.isnull(df['Embarked'])].index, inplace = True)\n",
    "df[pd.isnull(df['Embarked'])]"
   ]
  },
  {
   "cell_type": "code",
   "execution_count": 27,
   "id": "6b56e0eb",
   "metadata": {
    "scrolled": true
   },
   "outputs": [
    {
     "data": {
      "text/html": [
       "<div>\n",
       "<style scoped>\n",
       "    .dataframe tbody tr th:only-of-type {\n",
       "        vertical-align: middle;\n",
       "    }\n",
       "\n",
       "    .dataframe tbody tr th {\n",
       "        vertical-align: top;\n",
       "    }\n",
       "\n",
       "    .dataframe thead th {\n",
       "        text-align: right;\n",
       "    }\n",
       "</style>\n",
       "<table border=\"1\" class=\"dataframe\">\n",
       "  <thead>\n",
       "    <tr style=\"text-align: right;\">\n",
       "      <th></th>\n",
       "      <th>PassengerId</th>\n",
       "      <th>Survived</th>\n",
       "      <th>Pclass</th>\n",
       "      <th>Name</th>\n",
       "      <th>Sex</th>\n",
       "      <th>Age</th>\n",
       "      <th>SibSp</th>\n",
       "      <th>Parch</th>\n",
       "      <th>Ticket</th>\n",
       "      <th>Fare</th>\n",
       "      <th>Embarked</th>\n",
       "    </tr>\n",
       "  </thead>\n",
       "  <tbody>\n",
       "    <tr>\n",
       "      <th>61</th>\n",
       "      <td>62</td>\n",
       "      <td>1</td>\n",
       "      <td>1</td>\n",
       "      <td>Icard, Miss. Amelie</td>\n",
       "      <td>female</td>\n",
       "      <td>38.0</td>\n",
       "      <td>0</td>\n",
       "      <td>0</td>\n",
       "      <td>113572</td>\n",
       "      <td>80.0</td>\n",
       "      <td>NaN</td>\n",
       "    </tr>\n",
       "    <tr>\n",
       "      <th>829</th>\n",
       "      <td>830</td>\n",
       "      <td>1</td>\n",
       "      <td>1</td>\n",
       "      <td>Stone, Mrs. George Nelson (Martha Evelyn)</td>\n",
       "      <td>female</td>\n",
       "      <td>62.0</td>\n",
       "      <td>0</td>\n",
       "      <td>0</td>\n",
       "      <td>113572</td>\n",
       "      <td>80.0</td>\n",
       "      <td>NaN</td>\n",
       "    </tr>\n",
       "  </tbody>\n",
       "</table>\n",
       "</div>"
      ],
      "text/plain": [
       "     PassengerId  Survived  Pclass                                       Name  \\\n",
       "61            62         1       1                        Icard, Miss. Amelie   \n",
       "829          830         1       1  Stone, Mrs. George Nelson (Martha Evelyn)   \n",
       "\n",
       "        Sex   Age  SibSp  Parch  Ticket  Fare Embarked  \n",
       "61   female  38.0      0      0  113572  80.0      NaN  \n",
       "829  female  62.0      0      0  113572  80.0      NaN  "
      ]
     },
     "execution_count": 27,
     "metadata": {},
     "output_type": "execute_result"
    }
   ],
   "source": []
  },
  {
   "cell_type": "markdown",
   "id": "fe299454",
   "metadata": {},
   "source": [
    "# 1. The toy model"
   ]
  },
  {
   "cell_type": "markdown",
   "id": "113cbba5",
   "metadata": {},
   "source": [
    "## Preparing data"
   ]
  },
  {
   "cell_type": "code",
   "execution_count": 29,
   "id": "49737929",
   "metadata": {},
   "outputs": [
    {
     "data": {
      "text/plain": [
       "PassengerId      int64\n",
       "Survived         int64\n",
       "Pclass           int64\n",
       "Name            object\n",
       "Sex             object\n",
       "Age            float64\n",
       "SibSp            int64\n",
       "Parch            int64\n",
       "Ticket          object\n",
       "Fare           float64\n",
       "Embarked        object\n",
       "dtype: object"
      ]
     },
     "execution_count": 29,
     "metadata": {},
     "output_type": "execute_result"
    }
   ],
   "source": [
    "df.dtypes"
   ]
  },
  {
   "cell_type": "markdown",
   "id": "39e1e5d9",
   "metadata": {},
   "source": [
    "- We don't need 'PassengerId' for prediction purposes, so we will exclude it.\n",
    "- 'Sex', 'Embarked', and 'Pclass' should be categorical. We'll not consider 'Survived' as categorical because it's the output variable.\n",
    "- We need to parse 'Name' and 'Ticket'. For now, we'll ignore these features.\n",
    "- 'SibSp' could be grouped with 'Parch' to create a 'Family' feature. For now, we'll just identify if the passenger is travelling alone or with family."
   ]
  },
  {
   "cell_type": "code",
   "execution_count": 30,
   "id": "e5e913f4",
   "metadata": {},
   "outputs": [
    {
     "data": {
      "text/html": [
       "<div>\n",
       "<style scoped>\n",
       "    .dataframe tbody tr th:only-of-type {\n",
       "        vertical-align: middle;\n",
       "    }\n",
       "\n",
       "    .dataframe tbody tr th {\n",
       "        vertical-align: top;\n",
       "    }\n",
       "\n",
       "    .dataframe thead th {\n",
       "        text-align: right;\n",
       "    }\n",
       "</style>\n",
       "<table border=\"1\" class=\"dataframe\">\n",
       "  <thead>\n",
       "    <tr style=\"text-align: right;\">\n",
       "      <th></th>\n",
       "      <th>Survived</th>\n",
       "      <th>Pclass</th>\n",
       "      <th>Name</th>\n",
       "      <th>Sex</th>\n",
       "      <th>Age</th>\n",
       "      <th>SibSp</th>\n",
       "      <th>Parch</th>\n",
       "      <th>Ticket</th>\n",
       "      <th>Fare</th>\n",
       "      <th>Embarked</th>\n",
       "    </tr>\n",
       "  </thead>\n",
       "  <tbody>\n",
       "    <tr>\n",
       "      <th>0</th>\n",
       "      <td>0</td>\n",
       "      <td>3</td>\n",
       "      <td>Braund, Mr. Owen Harris</td>\n",
       "      <td>male</td>\n",
       "      <td>22.0</td>\n",
       "      <td>1</td>\n",
       "      <td>0</td>\n",
       "      <td>A/5 21171</td>\n",
       "      <td>7.2500</td>\n",
       "      <td>S</td>\n",
       "    </tr>\n",
       "    <tr>\n",
       "      <th>1</th>\n",
       "      <td>1</td>\n",
       "      <td>1</td>\n",
       "      <td>Cumings, Mrs. John Bradley (Florence Briggs Th...</td>\n",
       "      <td>female</td>\n",
       "      <td>38.0</td>\n",
       "      <td>1</td>\n",
       "      <td>0</td>\n",
       "      <td>PC 17599</td>\n",
       "      <td>71.2833</td>\n",
       "      <td>C</td>\n",
       "    </tr>\n",
       "    <tr>\n",
       "      <th>2</th>\n",
       "      <td>1</td>\n",
       "      <td>3</td>\n",
       "      <td>Heikkinen, Miss. Laina</td>\n",
       "      <td>female</td>\n",
       "      <td>26.0</td>\n",
       "      <td>0</td>\n",
       "      <td>0</td>\n",
       "      <td>STON/O2. 3101282</td>\n",
       "      <td>7.9250</td>\n",
       "      <td>S</td>\n",
       "    </tr>\n",
       "    <tr>\n",
       "      <th>3</th>\n",
       "      <td>1</td>\n",
       "      <td>1</td>\n",
       "      <td>Futrelle, Mrs. Jacques Heath (Lily May Peel)</td>\n",
       "      <td>female</td>\n",
       "      <td>35.0</td>\n",
       "      <td>1</td>\n",
       "      <td>0</td>\n",
       "      <td>113803</td>\n",
       "      <td>53.1000</td>\n",
       "      <td>S</td>\n",
       "    </tr>\n",
       "    <tr>\n",
       "      <th>4</th>\n",
       "      <td>0</td>\n",
       "      <td>3</td>\n",
       "      <td>Allen, Mr. William Henry</td>\n",
       "      <td>male</td>\n",
       "      <td>35.0</td>\n",
       "      <td>0</td>\n",
       "      <td>0</td>\n",
       "      <td>373450</td>\n",
       "      <td>8.0500</td>\n",
       "      <td>S</td>\n",
       "    </tr>\n",
       "  </tbody>\n",
       "</table>\n",
       "</div>"
      ],
      "text/plain": [
       "   Survived  Pclass                                               Name  \\\n",
       "0         0       3                            Braund, Mr. Owen Harris   \n",
       "1         1       1  Cumings, Mrs. John Bradley (Florence Briggs Th...   \n",
       "2         1       3                             Heikkinen, Miss. Laina   \n",
       "3         1       1       Futrelle, Mrs. Jacques Heath (Lily May Peel)   \n",
       "4         0       3                           Allen, Mr. William Henry   \n",
       "\n",
       "      Sex   Age  SibSp  Parch            Ticket     Fare Embarked  \n",
       "0    male  22.0      1      0         A/5 21171   7.2500        S  \n",
       "1  female  38.0      1      0          PC 17599  71.2833        C  \n",
       "2  female  26.0      0      0  STON/O2. 3101282   7.9250        S  \n",
       "3  female  35.0      1      0            113803  53.1000        S  \n",
       "4    male  35.0      0      0            373450   8.0500        S  "
      ]
     },
     "execution_count": 30,
     "metadata": {},
     "output_type": "execute_result"
    }
   ],
   "source": [
    "df.drop('PassengerId', axis = 1, inplace = True)\n",
    "df.head()"
   ]
  },
  {
   "cell_type": "code",
   "execution_count": 31,
   "id": "23f83d74",
   "metadata": {},
   "outputs": [],
   "source": [
    "df['Sex'] = pd.Categorical(df['Sex'])\n",
    "df['Embarked'] = pd.Categorical(df['Embarked'])"
   ]
  },
  {
   "cell_type": "code",
   "execution_count": 32,
   "id": "6429b8e4",
   "metadata": {},
   "outputs": [
    {
     "data": {
      "text/html": [
       "<div>\n",
       "<style scoped>\n",
       "    .dataframe tbody tr th:only-of-type {\n",
       "        vertical-align: middle;\n",
       "    }\n",
       "\n",
       "    .dataframe tbody tr th {\n",
       "        vertical-align: top;\n",
       "    }\n",
       "\n",
       "    .dataframe thead th {\n",
       "        text-align: right;\n",
       "    }\n",
       "</style>\n",
       "<table border=\"1\" class=\"dataframe\">\n",
       "  <thead>\n",
       "    <tr style=\"text-align: right;\">\n",
       "      <th></th>\n",
       "      <th>Survived</th>\n",
       "      <th>Pclass</th>\n",
       "      <th>Name</th>\n",
       "      <th>Sex</th>\n",
       "      <th>Age</th>\n",
       "      <th>SibSp</th>\n",
       "      <th>Parch</th>\n",
       "      <th>Ticket</th>\n",
       "      <th>Fare</th>\n",
       "      <th>Embarked</th>\n",
       "      <th>FamilySize</th>\n",
       "    </tr>\n",
       "  </thead>\n",
       "  <tbody>\n",
       "    <tr>\n",
       "      <th>0</th>\n",
       "      <td>0</td>\n",
       "      <td>3</td>\n",
       "      <td>Braund, Mr. Owen Harris</td>\n",
       "      <td>male</td>\n",
       "      <td>22.0</td>\n",
       "      <td>1</td>\n",
       "      <td>0</td>\n",
       "      <td>A/5 21171</td>\n",
       "      <td>7.2500</td>\n",
       "      <td>S</td>\n",
       "      <td>1</td>\n",
       "    </tr>\n",
       "    <tr>\n",
       "      <th>1</th>\n",
       "      <td>1</td>\n",
       "      <td>1</td>\n",
       "      <td>Cumings, Mrs. John Bradley (Florence Briggs Th...</td>\n",
       "      <td>female</td>\n",
       "      <td>38.0</td>\n",
       "      <td>1</td>\n",
       "      <td>0</td>\n",
       "      <td>PC 17599</td>\n",
       "      <td>71.2833</td>\n",
       "      <td>C</td>\n",
       "      <td>1</td>\n",
       "    </tr>\n",
       "    <tr>\n",
       "      <th>2</th>\n",
       "      <td>1</td>\n",
       "      <td>3</td>\n",
       "      <td>Heikkinen, Miss. Laina</td>\n",
       "      <td>female</td>\n",
       "      <td>26.0</td>\n",
       "      <td>0</td>\n",
       "      <td>0</td>\n",
       "      <td>STON/O2. 3101282</td>\n",
       "      <td>7.9250</td>\n",
       "      <td>S</td>\n",
       "      <td>0</td>\n",
       "    </tr>\n",
       "    <tr>\n",
       "      <th>3</th>\n",
       "      <td>1</td>\n",
       "      <td>1</td>\n",
       "      <td>Futrelle, Mrs. Jacques Heath (Lily May Peel)</td>\n",
       "      <td>female</td>\n",
       "      <td>35.0</td>\n",
       "      <td>1</td>\n",
       "      <td>0</td>\n",
       "      <td>113803</td>\n",
       "      <td>53.1000</td>\n",
       "      <td>S</td>\n",
       "      <td>1</td>\n",
       "    </tr>\n",
       "    <tr>\n",
       "      <th>4</th>\n",
       "      <td>0</td>\n",
       "      <td>3</td>\n",
       "      <td>Allen, Mr. William Henry</td>\n",
       "      <td>male</td>\n",
       "      <td>35.0</td>\n",
       "      <td>0</td>\n",
       "      <td>0</td>\n",
       "      <td>373450</td>\n",
       "      <td>8.0500</td>\n",
       "      <td>S</td>\n",
       "      <td>0</td>\n",
       "    </tr>\n",
       "  </tbody>\n",
       "</table>\n",
       "</div>"
      ],
      "text/plain": [
       "   Survived  Pclass                                               Name  \\\n",
       "0         0       3                            Braund, Mr. Owen Harris   \n",
       "1         1       1  Cumings, Mrs. John Bradley (Florence Briggs Th...   \n",
       "2         1       3                             Heikkinen, Miss. Laina   \n",
       "3         1       1       Futrelle, Mrs. Jacques Heath (Lily May Peel)   \n",
       "4         0       3                           Allen, Mr. William Henry   \n",
       "\n",
       "      Sex   Age  SibSp  Parch            Ticket     Fare Embarked  FamilySize  \n",
       "0    male  22.0      1      0         A/5 21171   7.2500        S           1  \n",
       "1  female  38.0      1      0          PC 17599  71.2833        C           1  \n",
       "2  female  26.0      0      0  STON/O2. 3101282   7.9250        S           0  \n",
       "3  female  35.0      1      0            113803  53.1000        S           1  \n",
       "4    male  35.0      0      0            373450   8.0500        S           0  "
      ]
     },
     "execution_count": 32,
     "metadata": {},
     "output_type": "execute_result"
    }
   ],
   "source": [
    "df['FamilySize'] = df['SibSp'] + df['Parch']\n",
    "df.head()"
   ]
  },
  {
   "cell_type": "code",
   "execution_count": 33,
   "id": "9dbcf512",
   "metadata": {},
   "outputs": [
    {
     "data": {
      "text/html": [
       "<div>\n",
       "<style scoped>\n",
       "    .dataframe tbody tr th:only-of-type {\n",
       "        vertical-align: middle;\n",
       "    }\n",
       "\n",
       "    .dataframe tbody tr th {\n",
       "        vertical-align: top;\n",
       "    }\n",
       "\n",
       "    .dataframe thead th {\n",
       "        text-align: right;\n",
       "    }\n",
       "</style>\n",
       "<table border=\"1\" class=\"dataframe\">\n",
       "  <thead>\n",
       "    <tr style=\"text-align: right;\">\n",
       "      <th></th>\n",
       "      <th>Survived</th>\n",
       "      <th>Pclass</th>\n",
       "      <th>Name</th>\n",
       "      <th>Sex</th>\n",
       "      <th>Age</th>\n",
       "      <th>Ticket</th>\n",
       "      <th>Fare</th>\n",
       "      <th>Embarked</th>\n",
       "      <th>FamilySize</th>\n",
       "    </tr>\n",
       "  </thead>\n",
       "  <tbody>\n",
       "    <tr>\n",
       "      <th>0</th>\n",
       "      <td>0</td>\n",
       "      <td>3</td>\n",
       "      <td>Braund, Mr. Owen Harris</td>\n",
       "      <td>male</td>\n",
       "      <td>22.0</td>\n",
       "      <td>A/5 21171</td>\n",
       "      <td>7.2500</td>\n",
       "      <td>S</td>\n",
       "      <td>1</td>\n",
       "    </tr>\n",
       "    <tr>\n",
       "      <th>1</th>\n",
       "      <td>1</td>\n",
       "      <td>1</td>\n",
       "      <td>Cumings, Mrs. John Bradley (Florence Briggs Th...</td>\n",
       "      <td>female</td>\n",
       "      <td>38.0</td>\n",
       "      <td>PC 17599</td>\n",
       "      <td>71.2833</td>\n",
       "      <td>C</td>\n",
       "      <td>1</td>\n",
       "    </tr>\n",
       "    <tr>\n",
       "      <th>2</th>\n",
       "      <td>1</td>\n",
       "      <td>3</td>\n",
       "      <td>Heikkinen, Miss. Laina</td>\n",
       "      <td>female</td>\n",
       "      <td>26.0</td>\n",
       "      <td>STON/O2. 3101282</td>\n",
       "      <td>7.9250</td>\n",
       "      <td>S</td>\n",
       "      <td>0</td>\n",
       "    </tr>\n",
       "    <tr>\n",
       "      <th>3</th>\n",
       "      <td>1</td>\n",
       "      <td>1</td>\n",
       "      <td>Futrelle, Mrs. Jacques Heath (Lily May Peel)</td>\n",
       "      <td>female</td>\n",
       "      <td>35.0</td>\n",
       "      <td>113803</td>\n",
       "      <td>53.1000</td>\n",
       "      <td>S</td>\n",
       "      <td>1</td>\n",
       "    </tr>\n",
       "    <tr>\n",
       "      <th>4</th>\n",
       "      <td>0</td>\n",
       "      <td>3</td>\n",
       "      <td>Allen, Mr. William Henry</td>\n",
       "      <td>male</td>\n",
       "      <td>35.0</td>\n",
       "      <td>373450</td>\n",
       "      <td>8.0500</td>\n",
       "      <td>S</td>\n",
       "      <td>0</td>\n",
       "    </tr>\n",
       "  </tbody>\n",
       "</table>\n",
       "</div>"
      ],
      "text/plain": [
       "   Survived  Pclass                                               Name  \\\n",
       "0         0       3                            Braund, Mr. Owen Harris   \n",
       "1         1       1  Cumings, Mrs. John Bradley (Florence Briggs Th...   \n",
       "2         1       3                             Heikkinen, Miss. Laina   \n",
       "3         1       1       Futrelle, Mrs. Jacques Heath (Lily May Peel)   \n",
       "4         0       3                           Allen, Mr. William Henry   \n",
       "\n",
       "      Sex   Age            Ticket     Fare Embarked  FamilySize  \n",
       "0    male  22.0         A/5 21171   7.2500        S           1  \n",
       "1  female  38.0          PC 17599  71.2833        C           1  \n",
       "2  female  26.0  STON/O2. 3101282   7.9250        S           0  \n",
       "3  female  35.0            113803  53.1000        S           1  \n",
       "4    male  35.0            373450   8.0500        S           0  "
      ]
     },
     "execution_count": 33,
     "metadata": {},
     "output_type": "execute_result"
    }
   ],
   "source": [
    "df.drop(['SibSp','Parch'], axis = 1, inplace = True)\n",
    "df.head()"
   ]
  },
  {
   "cell_type": "code",
   "execution_count": 34,
   "id": "ad1dfe98",
   "metadata": {},
   "outputs": [
    {
     "data": {
      "text/html": [
       "<div>\n",
       "<style scoped>\n",
       "    .dataframe tbody tr th:only-of-type {\n",
       "        vertical-align: middle;\n",
       "    }\n",
       "\n",
       "    .dataframe tbody tr th {\n",
       "        vertical-align: top;\n",
       "    }\n",
       "\n",
       "    .dataframe thead th {\n",
       "        text-align: right;\n",
       "    }\n",
       "</style>\n",
       "<table border=\"1\" class=\"dataframe\">\n",
       "  <thead>\n",
       "    <tr style=\"text-align: right;\">\n",
       "      <th></th>\n",
       "      <th>Survived</th>\n",
       "      <th>Pclass</th>\n",
       "      <th>Sex</th>\n",
       "      <th>Age</th>\n",
       "      <th>Fare</th>\n",
       "      <th>Embarked</th>\n",
       "      <th>FamilySize</th>\n",
       "    </tr>\n",
       "  </thead>\n",
       "  <tbody>\n",
       "    <tr>\n",
       "      <th>0</th>\n",
       "      <td>0</td>\n",
       "      <td>3</td>\n",
       "      <td>male</td>\n",
       "      <td>22.0</td>\n",
       "      <td>7.2500</td>\n",
       "      <td>S</td>\n",
       "      <td>1</td>\n",
       "    </tr>\n",
       "    <tr>\n",
       "      <th>1</th>\n",
       "      <td>1</td>\n",
       "      <td>1</td>\n",
       "      <td>female</td>\n",
       "      <td>38.0</td>\n",
       "      <td>71.2833</td>\n",
       "      <td>C</td>\n",
       "      <td>1</td>\n",
       "    </tr>\n",
       "    <tr>\n",
       "      <th>2</th>\n",
       "      <td>1</td>\n",
       "      <td>3</td>\n",
       "      <td>female</td>\n",
       "      <td>26.0</td>\n",
       "      <td>7.9250</td>\n",
       "      <td>S</td>\n",
       "      <td>0</td>\n",
       "    </tr>\n",
       "    <tr>\n",
       "      <th>3</th>\n",
       "      <td>1</td>\n",
       "      <td>1</td>\n",
       "      <td>female</td>\n",
       "      <td>35.0</td>\n",
       "      <td>53.1000</td>\n",
       "      <td>S</td>\n",
       "      <td>1</td>\n",
       "    </tr>\n",
       "    <tr>\n",
       "      <th>4</th>\n",
       "      <td>0</td>\n",
       "      <td>3</td>\n",
       "      <td>male</td>\n",
       "      <td>35.0</td>\n",
       "      <td>8.0500</td>\n",
       "      <td>S</td>\n",
       "      <td>0</td>\n",
       "    </tr>\n",
       "  </tbody>\n",
       "</table>\n",
       "</div>"
      ],
      "text/plain": [
       "   Survived  Pclass     Sex   Age     Fare Embarked  FamilySize\n",
       "0         0       3    male  22.0   7.2500        S           1\n",
       "1         1       1  female  38.0  71.2833        C           1\n",
       "2         1       3  female  26.0   7.9250        S           0\n",
       "3         1       1  female  35.0  53.1000        S           1\n",
       "4         0       3    male  35.0   8.0500        S           0"
      ]
     },
     "execution_count": 34,
     "metadata": {},
     "output_type": "execute_result"
    }
   ],
   "source": [
    "df.drop(['Name','Ticket'], axis = 1, inplace = True)\n",
    "df.head()"
   ]
  },
  {
   "cell_type": "markdown",
   "id": "e76b187c",
   "metadata": {},
   "source": [
    "Finally transform categorical variables into dummy variables"
   ]
  },
  {
   "cell_type": "code",
   "execution_count": 35,
   "id": "6c4fa186",
   "metadata": {},
   "outputs": [
    {
     "data": {
      "text/html": [
       "<div>\n",
       "<style scoped>\n",
       "    .dataframe tbody tr th:only-of-type {\n",
       "        vertical-align: middle;\n",
       "    }\n",
       "\n",
       "    .dataframe tbody tr th {\n",
       "        vertical-align: top;\n",
       "    }\n",
       "\n",
       "    .dataframe thead th {\n",
       "        text-align: right;\n",
       "    }\n",
       "</style>\n",
       "<table border=\"1\" class=\"dataframe\">\n",
       "  <thead>\n",
       "    <tr style=\"text-align: right;\">\n",
       "      <th></th>\n",
       "      <th>Survived</th>\n",
       "      <th>Pclass</th>\n",
       "      <th>Age</th>\n",
       "      <th>Fare</th>\n",
       "      <th>FamilySize</th>\n",
       "      <th>Sex_male</th>\n",
       "      <th>Embarked_Q</th>\n",
       "      <th>Embarked_S</th>\n",
       "    </tr>\n",
       "  </thead>\n",
       "  <tbody>\n",
       "    <tr>\n",
       "      <th>0</th>\n",
       "      <td>0</td>\n",
       "      <td>3</td>\n",
       "      <td>22.0</td>\n",
       "      <td>7.2500</td>\n",
       "      <td>1</td>\n",
       "      <td>1</td>\n",
       "      <td>0</td>\n",
       "      <td>1</td>\n",
       "    </tr>\n",
       "    <tr>\n",
       "      <th>1</th>\n",
       "      <td>1</td>\n",
       "      <td>1</td>\n",
       "      <td>38.0</td>\n",
       "      <td>71.2833</td>\n",
       "      <td>1</td>\n",
       "      <td>0</td>\n",
       "      <td>0</td>\n",
       "      <td>0</td>\n",
       "    </tr>\n",
       "    <tr>\n",
       "      <th>2</th>\n",
       "      <td>1</td>\n",
       "      <td>3</td>\n",
       "      <td>26.0</td>\n",
       "      <td>7.9250</td>\n",
       "      <td>0</td>\n",
       "      <td>0</td>\n",
       "      <td>0</td>\n",
       "      <td>1</td>\n",
       "    </tr>\n",
       "    <tr>\n",
       "      <th>3</th>\n",
       "      <td>1</td>\n",
       "      <td>1</td>\n",
       "      <td>35.0</td>\n",
       "      <td>53.1000</td>\n",
       "      <td>1</td>\n",
       "      <td>0</td>\n",
       "      <td>0</td>\n",
       "      <td>1</td>\n",
       "    </tr>\n",
       "    <tr>\n",
       "      <th>4</th>\n",
       "      <td>0</td>\n",
       "      <td>3</td>\n",
       "      <td>35.0</td>\n",
       "      <td>8.0500</td>\n",
       "      <td>0</td>\n",
       "      <td>1</td>\n",
       "      <td>0</td>\n",
       "      <td>1</td>\n",
       "    </tr>\n",
       "  </tbody>\n",
       "</table>\n",
       "</div>"
      ],
      "text/plain": [
       "   Survived  Pclass   Age     Fare  FamilySize  Sex_male  Embarked_Q  \\\n",
       "0         0       3  22.0   7.2500           1         1           0   \n",
       "1         1       1  38.0  71.2833           1         0           0   \n",
       "2         1       3  26.0   7.9250           0         0           0   \n",
       "3         1       1  35.0  53.1000           1         0           0   \n",
       "4         0       3  35.0   8.0500           0         1           0   \n",
       "\n",
       "   Embarked_S  \n",
       "0           1  \n",
       "1           0  \n",
       "2           1  \n",
       "3           1  \n",
       "4           1  "
      ]
     },
     "execution_count": 35,
     "metadata": {},
     "output_type": "execute_result"
    }
   ],
   "source": [
    "df = pd.get_dummies(df, drop_first = True)\n",
    "df.head()"
   ]
  },
  {
   "cell_type": "markdown",
   "id": "f4da949a",
   "metadata": {},
   "source": [
    "## Testing the model"
   ]
  },
  {
   "cell_type": "code",
   "execution_count": 36,
   "id": "890846ad",
   "metadata": {},
   "outputs": [],
   "source": [
    "X = df[df.loc[:, df.columns != 'Survived'].columns]\n",
    "y = df['Survived']\n",
    "X_train, X_test, y_train, y_test = train_test_split(X, y, test_size = 0.2, random_state = 1)"
   ]
  },
  {
   "cell_type": "code",
   "execution_count": 37,
   "id": "2ef2b91b",
   "metadata": {},
   "outputs": [
    {
     "name": "stdout",
     "output_type": "stream",
     "text": [
      "Inputs: \n",
      "      Pclass     Age      Fare  FamilySize  Sex_male  Embarked_Q  Embarked_S\n",
      "121       3  1000.0    8.0500           0         1           0           1\n",
      "687       3    19.0   10.1708           0         1           0           1\n",
      "790       3  1000.0    7.7500           0         1           1           0\n",
      "837       3  1000.0    8.0500           0         1           0           1\n",
      "659       1    58.0  113.2750           2         1           0           0\n",
      "Outputs: \n",
      " 121    0\n",
      "687    0\n",
      "790    0\n",
      "837    0\n",
      "659    0\n",
      "Name: Survived, dtype: int64\n"
     ]
    }
   ],
   "source": [
    "print('Inputs: \\n', X_train.head())\n",
    "print('Outputs: \\n', y_train.head())"
   ]
  },
  {
   "cell_type": "code",
   "execution_count": 39,
   "id": "ed5e6ed4",
   "metadata": {},
   "outputs": [
    {
     "data": {
      "text/html": [
       "<style>#sk-container-id-1 {color: black;}#sk-container-id-1 pre{padding: 0;}#sk-container-id-1 div.sk-toggleable {background-color: white;}#sk-container-id-1 label.sk-toggleable__label {cursor: pointer;display: block;width: 100%;margin-bottom: 0;padding: 0.3em;box-sizing: border-box;text-align: center;}#sk-container-id-1 label.sk-toggleable__label-arrow:before {content: \"▸\";float: left;margin-right: 0.25em;color: #696969;}#sk-container-id-1 label.sk-toggleable__label-arrow:hover:before {color: black;}#sk-container-id-1 div.sk-estimator:hover label.sk-toggleable__label-arrow:before {color: black;}#sk-container-id-1 div.sk-toggleable__content {max-height: 0;max-width: 0;overflow: hidden;text-align: left;background-color: #f0f8ff;}#sk-container-id-1 div.sk-toggleable__content pre {margin: 0.2em;color: black;border-radius: 0.25em;background-color: #f0f8ff;}#sk-container-id-1 input.sk-toggleable__control:checked~div.sk-toggleable__content {max-height: 200px;max-width: 100%;overflow: auto;}#sk-container-id-1 input.sk-toggleable__control:checked~label.sk-toggleable__label-arrow:before {content: \"▾\";}#sk-container-id-1 div.sk-estimator input.sk-toggleable__control:checked~label.sk-toggleable__label {background-color: #d4ebff;}#sk-container-id-1 div.sk-label input.sk-toggleable__control:checked~label.sk-toggleable__label {background-color: #d4ebff;}#sk-container-id-1 input.sk-hidden--visually {border: 0;clip: rect(1px 1px 1px 1px);clip: rect(1px, 1px, 1px, 1px);height: 1px;margin: -1px;overflow: hidden;padding: 0;position: absolute;width: 1px;}#sk-container-id-1 div.sk-estimator {font-family: monospace;background-color: #f0f8ff;border: 1px dotted black;border-radius: 0.25em;box-sizing: border-box;margin-bottom: 0.5em;}#sk-container-id-1 div.sk-estimator:hover {background-color: #d4ebff;}#sk-container-id-1 div.sk-parallel-item::after {content: \"\";width: 100%;border-bottom: 1px solid gray;flex-grow: 1;}#sk-container-id-1 div.sk-label:hover label.sk-toggleable__label {background-color: #d4ebff;}#sk-container-id-1 div.sk-serial::before {content: \"\";position: absolute;border-left: 1px solid gray;box-sizing: border-box;top: 0;bottom: 0;left: 50%;z-index: 0;}#sk-container-id-1 div.sk-serial {display: flex;flex-direction: column;align-items: center;background-color: white;padding-right: 0.2em;padding-left: 0.2em;position: relative;}#sk-container-id-1 div.sk-item {position: relative;z-index: 1;}#sk-container-id-1 div.sk-parallel {display: flex;align-items: stretch;justify-content: center;background-color: white;position: relative;}#sk-container-id-1 div.sk-item::before, #sk-container-id-1 div.sk-parallel-item::before {content: \"\";position: absolute;border-left: 1px solid gray;box-sizing: border-box;top: 0;bottom: 0;left: 50%;z-index: -1;}#sk-container-id-1 div.sk-parallel-item {display: flex;flex-direction: column;z-index: 1;position: relative;background-color: white;}#sk-container-id-1 div.sk-parallel-item:first-child::after {align-self: flex-end;width: 50%;}#sk-container-id-1 div.sk-parallel-item:last-child::after {align-self: flex-start;width: 50%;}#sk-container-id-1 div.sk-parallel-item:only-child::after {width: 0;}#sk-container-id-1 div.sk-dashed-wrapped {border: 1px dashed gray;margin: 0 0.4em 0.5em 0.4em;box-sizing: border-box;padding-bottom: 0.4em;background-color: white;}#sk-container-id-1 div.sk-label label {font-family: monospace;font-weight: bold;display: inline-block;line-height: 1.2em;}#sk-container-id-1 div.sk-label-container {text-align: center;}#sk-container-id-1 div.sk-container {/* jupyter's `normalize.less` sets `[hidden] { display: none; }` but bootstrap.min.css set `[hidden] { display: none !important; }` so we also need the `!important` here to be able to override the default hidden behavior on the sphinx rendered scikit-learn.org. See: https://github.com/scikit-learn/scikit-learn/issues/21755 */display: inline-block !important;position: relative;}#sk-container-id-1 div.sk-text-repr-fallback {display: none;}</style><div id=\"sk-container-id-1\" class=\"sk-top-container\"><div class=\"sk-text-repr-fallback\"><pre>LogisticRegression()</pre><b>In a Jupyter environment, please rerun this cell to show the HTML representation or trust the notebook. <br />On GitHub, the HTML representation is unable to render, please try loading this page with nbviewer.org.</b></div><div class=\"sk-container\" hidden><div class=\"sk-item\"><div class=\"sk-estimator sk-toggleable\"><input class=\"sk-toggleable__control sk-hidden--visually\" id=\"sk-estimator-id-1\" type=\"checkbox\" checked><label for=\"sk-estimator-id-1\" class=\"sk-toggleable__label sk-toggleable__label-arrow\">LogisticRegression</label><div class=\"sk-toggleable__content\"><pre>LogisticRegression()</pre></div></div></div></div></div>"
      ],
      "text/plain": [
       "LogisticRegression()"
      ]
     },
     "execution_count": 39,
     "metadata": {},
     "output_type": "execute_result"
    }
   ],
   "source": [
    "logreg = LogisticRegression()\n",
    "logreg.fit(X_train, y_train)"
   ]
  },
  {
   "cell_type": "code",
   "execution_count": 40,
   "id": "137722b6",
   "metadata": {},
   "outputs": [
    {
     "name": "stdout",
     "output_type": "stream",
     "text": [
      "CV accuracy: 0.786 +/- 0.038\n"
     ]
    }
   ],
   "source": [
    "scores = cross_val_score(logreg, X_train, y_train, cv = 10) \n",
    "print('CV accuracy: %.3f +/- %.3f' % (np.mean(scores), np.std(scores)))"
   ]
  },
  {
   "cell_type": "code",
   "execution_count": 41,
   "id": "8f5f58fe",
   "metadata": {},
   "outputs": [],
   "source": [
    "def plot_learning_curve(estimator, title, X, y, ylim = None, cv = None,\n",
    "                        n_jobs = 1, train_sizes = np.linspace(0.1, 1.0, 5)):\n",
    "    plt.figure()\n",
    "    plt.title(title)\n",
    "    if ylim is not None:\n",
    "        plt.ylim(*ylim)\n",
    "    plt.xlabel('Training examples')\n",
    "    plt.ylabel('Score')\n",
    "    \n",
    "    train_sizes, train_scores, test_scores = learning_curve(estimator, X, y, cv = cv, \n",
    "                                                            n_jobs = n_jobs, train_sizes = train_sizes)\n",
    "    train_scores_mean = np.mean(train_scores, axis = 1)\n",
    "    train_scores_std = np.std(train_scores, axis = 1)\n",
    "    test_scores_mean = np.mean(test_scores, axis = 1)\n",
    "    test_scores_std = np.std(test_scores, axis = 1)\n",
    "    plt.grid()\n",
    "    \n",
    "    plt.fill_between(train_sizes, train_scores_mean - train_scores_std, train_scores_mean + train_scores_std,\n",
    "                    alpha = 0.1, color = 'r')\n",
    "    plt.fill_between(train_sizes, test_scores_mean - test_scores_std, test_scores_mean + test_scores_std,\n",
    "                    alpha = 0.1, color = 'g')\n",
    "    plt.plot(train_sizes, train_scores_mean, 'o-', color = 'r', label = 'Training score')\n",
    "    plt.plot(train_sizes, test_scores_mean, 'o-', color = 'g', label = 'Validation score')\n",
    "    \n",
    "    plt.legend(loc = 'best')\n",
    "    return plt"
   ]
  },
  {
   "cell_type": "code",
   "execution_count": 42,
   "id": "237a07c0",
   "metadata": {},
   "outputs": [
    {
     "data": {
      "text/plain": [
       "<module 'matplotlib.pyplot' from '/opt/anaconda3/envs/datascience/lib/python3.10/site-packages/matplotlib/pyplot.py'>"
      ]
     },
     "execution_count": 42,
     "metadata": {},
     "output_type": "execute_result"
    },
    {
     "data": {
      "image/png": "[encoded data removed]",
      "text/plain": [
       "<Figure size 640x480 with 1 Axes>"
      ]
     },
     "metadata": {},
     "output_type": "display_data"
    }
   ],
   "source": [
    "title = 'Learning Curves (Logistic Regression)'\n",
    "cv = 10\n",
    "plot_learning_curve(logreg, title, X_train, y_train, ylim = (0.7, 1.01), cv = cv, n_jobs = 1)"
   ]
  },
  {
   "cell_type": "markdown",
   "id": "47dd4805",
   "metadata": {},
   "source": [
    "- The model doesn't overfit. As we can see, the curves converge and no gap between the training and the validation score exists in the last points of the curve.\n",
    "- The model underfits. Our final score is about 0.786. For now, it's just an toy model."
   ]
  },
  {
   "cell_type": "code",
   "execution_count": 44,
   "id": "ec57c11b",
   "metadata": {},
   "outputs": [],
   "source": [
    "def plot_validation_curve(estimator, title, X, y, param_name, param_range, ylim = None, cv = None):\n",
    "    \n",
    "    plt.figure()\n",
    "    plt.title(title)\n",
    "    if ylim is not None:\n",
    "        plt.ylim(*ylim)\n",
    "    plt.xlabel('Parameter')\n",
    "    plt.ylabel('Score')\n",
    "    plt.xscale('log')\n",
    "    \n",
    "    train_scores, test_scores = validation_curve(estimator, X, y, param_name = param_name,\n",
    "                                                 param_range = param_range, cv = cv)\n",
    "    \n",
    "    train_mean = np.mean(train_scores, axis = 1)\n",
    "    train_std = np.std(train_scores, axis = 1)\n",
    "    test_mean = np.mean(test_scores, axis = 1)\n",
    "    test_std = np.std(test_scores, axis = 1)\n",
    "    plt.grid()\n",
    "    \n",
    "    \n",
    "    plt.fill_between(param_range, train_mean - train_std, train_mean + train_std, alpha = 0.15, color = 'r')\n",
    "    plt.fill_between(param_range, test_mean - test_std, test_mean + test_std, alpha = 0.15, color = 'g')\n",
    "    \n",
    "    plt.plot(param_range, train_mean, color = 'r', marker = 'o', markersize = 5, label = 'Training score')\n",
    "    plt.plot(param_range, test_mean, color = 'g', linestyle = '--', marker = 's', markersize = 5, label = 'Validation score')\n",
    "    \n",
    "    plt.legend(loc = 'best')\n",
    "\n",
    "    return plt"
   ]
  },
  {
   "cell_type": "code",
   "execution_count": 45,
   "id": "5ec63da2",
   "metadata": {},
   "outputs": [
    {
     "data": {
      "text/plain": [
       "<module 'matplotlib.pyplot' from '/opt/anaconda3/envs/datascience/lib/python3.10/site-packages/matplotlib/pyplot.py'>"
      ]
     },
     "execution_count": 45,
     "metadata": {},
     "output_type": "execute_result"
    },
    {
     "data": {
      "image/png": "[encoded data removed]",
      "text/plain": [
       "<Figure size 640x480 with 1 Axes>"
      ]
     },
     "metadata": {},
     "output_type": "display_data"
    }
   ],
   "source": [
    "title = 'Validation Curve (Logistic Regression)'\n",
    "param_name = 'C'\n",
    "param_range = [0.001, 0.01, 0.1, 1.0, 10.0, 100.0]\n",
    "cv = 10\n",
    "plot_validation_curve(estimator = logreg, title = title , X = X_train, y = y_train, param_name = param_name,\n",
    "                      param_range = param_range, ylim = (0.5, 1.01), cv = cv)"
   ]
  },
  {
   "cell_type": "markdown",
   "id": "b9eb430f",
   "metadata": {},
   "source": [
    "The figure shows that there is no huge difference in model's performance for this C values. In a logistic regression, C is the only model parameter that we can change."
   ]
  },
  {
   "cell_type": "markdown",
   "id": "b7227af8",
   "metadata": {},
   "source": [
    "# 2. Deep analysis\n",
    "\n",
    "According to the metric our model has a room of improvement. This can be done by:\n",
    "\n",
    "- Improving the way how we handled 'Age' missing data. We decided to replace missing data by a unique value, but now we can go deeper and search for a better imputation strategy.\n",
    "- Exploring data to understand which features can have impact in the model and how they can be manipulated to boost that impact.\n",
    "- Building new features that can increase the predictive power of our model.\n",
    "\n",
    "Now our aim is to improve the model performance just by the data quality, i.e., enriching our data."
   ]
  },
  {
   "cell_type": "code",
   "execution_count": 46,
   "id": "28703bf0",
   "metadata": {},
   "outputs": [
    {
     "data": {
      "text/html": [
       "<div>\n",
       "<style scoped>\n",
       "    .dataframe tbody tr th:only-of-type {\n",
       "        vertical-align: middle;\n",
       "    }\n",
       "\n",
       "    .dataframe tbody tr th {\n",
       "        vertical-align: top;\n",
       "    }\n",
       "\n",
       "    .dataframe thead th {\n",
       "        text-align: right;\n",
       "    }\n",
       "</style>\n",
       "<table border=\"1\" class=\"dataframe\">\n",
       "  <thead>\n",
       "    <tr style=\"text-align: right;\">\n",
       "      <th></th>\n",
       "      <th>PassengerId</th>\n",
       "      <th>Survived</th>\n",
       "      <th>Pclass</th>\n",
       "      <th>Name</th>\n",
       "      <th>Sex</th>\n",
       "      <th>Age</th>\n",
       "      <th>SibSp</th>\n",
       "      <th>Parch</th>\n",
       "      <th>Ticket</th>\n",
       "      <th>Fare</th>\n",
       "      <th>Cabin</th>\n",
       "      <th>Embarked</th>\n",
       "    </tr>\n",
       "  </thead>\n",
       "  <tbody>\n",
       "    <tr>\n",
       "      <th>0</th>\n",
       "      <td>1</td>\n",
       "      <td>0</td>\n",
       "      <td>3</td>\n",
       "      <td>Braund, Mr. Owen Harris</td>\n",
       "      <td>male</td>\n",
       "      <td>22.0</td>\n",
       "      <td>1</td>\n",
       "      <td>0</td>\n",
       "      <td>A/5 21171</td>\n",
       "      <td>7.2500</td>\n",
       "      <td>NaN</td>\n",
       "      <td>S</td>\n",
       "    </tr>\n",
       "    <tr>\n",
       "      <th>1</th>\n",
       "      <td>2</td>\n",
       "      <td>1</td>\n",
       "      <td>1</td>\n",
       "      <td>Cumings, Mrs. John Bradley (Florence Briggs Th...</td>\n",
       "      <td>female</td>\n",
       "      <td>38.0</td>\n",
       "      <td>1</td>\n",
       "      <td>0</td>\n",
       "      <td>PC 17599</td>\n",
       "      <td>71.2833</td>\n",
       "      <td>C85</td>\n",
       "      <td>C</td>\n",
       "    </tr>\n",
       "    <tr>\n",
       "      <th>2</th>\n",
       "      <td>3</td>\n",
       "      <td>1</td>\n",
       "      <td>3</td>\n",
       "      <td>Heikkinen, Miss. Laina</td>\n",
       "      <td>female</td>\n",
       "      <td>26.0</td>\n",
       "      <td>0</td>\n",
       "      <td>0</td>\n",
       "      <td>STON/O2. 3101282</td>\n",
       "      <td>7.9250</td>\n",
       "      <td>NaN</td>\n",
       "      <td>S</td>\n",
       "    </tr>\n",
       "    <tr>\n",
       "      <th>3</th>\n",
       "      <td>4</td>\n",
       "      <td>1</td>\n",
       "      <td>1</td>\n",
       "      <td>Futrelle, Mrs. Jacques Heath (Lily May Peel)</td>\n",
       "      <td>female</td>\n",
       "      <td>35.0</td>\n",
       "      <td>1</td>\n",
       "      <td>0</td>\n",
       "      <td>113803</td>\n",
       "      <td>53.1000</td>\n",
       "      <td>C123</td>\n",
       "      <td>S</td>\n",
       "    </tr>\n",
       "    <tr>\n",
       "      <th>4</th>\n",
       "      <td>5</td>\n",
       "      <td>0</td>\n",
       "      <td>3</td>\n",
       "      <td>Allen, Mr. William Henry</td>\n",
       "      <td>male</td>\n",
       "      <td>35.0</td>\n",
       "      <td>0</td>\n",
       "      <td>0</td>\n",
       "      <td>373450</td>\n",
       "      <td>8.0500</td>\n",
       "      <td>NaN</td>\n",
       "      <td>S</td>\n",
       "    </tr>\n",
       "  </tbody>\n",
       "</table>\n",
       "</div>"
      ],
      "text/plain": [
       "   PassengerId  Survived  Pclass  \\\n",
       "0            1         0       3   \n",
       "1            2         1       1   \n",
       "2            3         1       3   \n",
       "3            4         1       1   \n",
       "4            5         0       3   \n",
       "\n",
       "                                                Name     Sex   Age  SibSp  \\\n",
       "0                            Braund, Mr. Owen Harris    male  22.0      1   \n",
       "1  Cumings, Mrs. John Bradley (Florence Briggs Th...  female  38.0      1   \n",
       "2                             Heikkinen, Miss. Laina  female  26.0      0   \n",
       "3       Futrelle, Mrs. Jacques Heath (Lily May Peel)  female  35.0      1   \n",
       "4                           Allen, Mr. William Henry    male  35.0      0   \n",
       "\n",
       "   Parch            Ticket     Fare Cabin Embarked  \n",
       "0      0         A/5 21171   7.2500   NaN        S  \n",
       "1      0          PC 17599  71.2833   C85        C  \n",
       "2      0  STON/O2. 3101282   7.9250   NaN        S  \n",
       "3      0            113803  53.1000  C123        S  \n",
       "4      0            373450   8.0500   NaN        S  "
      ]
     },
     "execution_count": 46,
     "metadata": {},
     "output_type": "execute_result"
    }
   ],
   "source": [
    "df = df_org.copy()\n",
    "df.head()"
   ]
  },
  {
   "cell_type": "code",
   "execution_count": 47,
   "id": "b1eb2af5",
   "metadata": {},
   "outputs": [
    {
     "data": {
      "text/html": [
       "<div>\n",
       "<style scoped>\n",
       "    .dataframe tbody tr th:only-of-type {\n",
       "        vertical-align: middle;\n",
       "    }\n",
       "\n",
       "    .dataframe tbody tr th {\n",
       "        vertical-align: top;\n",
       "    }\n",
       "\n",
       "    .dataframe thead th {\n",
       "        text-align: right;\n",
       "    }\n",
       "</style>\n",
       "<table border=\"1\" class=\"dataframe\">\n",
       "  <thead>\n",
       "    <tr style=\"text-align: right;\">\n",
       "      <th></th>\n",
       "      <th>PassengerId</th>\n",
       "      <th>Survived</th>\n",
       "      <th>Pclass</th>\n",
       "      <th>Name</th>\n",
       "      <th>Sex</th>\n",
       "      <th>Age</th>\n",
       "      <th>SibSp</th>\n",
       "      <th>Parch</th>\n",
       "      <th>Ticket</th>\n",
       "      <th>Fare</th>\n",
       "      <th>Cabin</th>\n",
       "      <th>Embarked</th>\n",
       "      <th>FamilySize</th>\n",
       "    </tr>\n",
       "  </thead>\n",
       "  <tbody>\n",
       "    <tr>\n",
       "      <th>0</th>\n",
       "      <td>1</td>\n",
       "      <td>0</td>\n",
       "      <td>3</td>\n",
       "      <td>Braund, Mr. Owen Harris</td>\n",
       "      <td>male</td>\n",
       "      <td>22.0</td>\n",
       "      <td>1</td>\n",
       "      <td>0</td>\n",
       "      <td>A/5 21171</td>\n",
       "      <td>7.2500</td>\n",
       "      <td>NaN</td>\n",
       "      <td>S</td>\n",
       "      <td>1</td>\n",
       "    </tr>\n",
       "    <tr>\n",
       "      <th>1</th>\n",
       "      <td>2</td>\n",
       "      <td>1</td>\n",
       "      <td>1</td>\n",
       "      <td>Cumings, Mrs. John Bradley (Florence Briggs Th...</td>\n",
       "      <td>female</td>\n",
       "      <td>38.0</td>\n",
       "      <td>1</td>\n",
       "      <td>0</td>\n",
       "      <td>PC 17599</td>\n",
       "      <td>71.2833</td>\n",
       "      <td>C85</td>\n",
       "      <td>C</td>\n",
       "      <td>1</td>\n",
       "    </tr>\n",
       "    <tr>\n",
       "      <th>2</th>\n",
       "      <td>3</td>\n",
       "      <td>1</td>\n",
       "      <td>3</td>\n",
       "      <td>Heikkinen, Miss. Laina</td>\n",
       "      <td>female</td>\n",
       "      <td>26.0</td>\n",
       "      <td>0</td>\n",
       "      <td>0</td>\n",
       "      <td>STON/O2. 3101282</td>\n",
       "      <td>7.9250</td>\n",
       "      <td>NaN</td>\n",
       "      <td>S</td>\n",
       "      <td>0</td>\n",
       "    </tr>\n",
       "    <tr>\n",
       "      <th>3</th>\n",
       "      <td>4</td>\n",
       "      <td>1</td>\n",
       "      <td>1</td>\n",
       "      <td>Futrelle, Mrs. Jacques Heath (Lily May Peel)</td>\n",
       "      <td>female</td>\n",
       "      <td>35.0</td>\n",
       "      <td>1</td>\n",
       "      <td>0</td>\n",
       "      <td>113803</td>\n",
       "      <td>53.1000</td>\n",
       "      <td>C123</td>\n",
       "      <td>S</td>\n",
       "      <td>1</td>\n",
       "    </tr>\n",
       "    <tr>\n",
       "      <th>4</th>\n",
       "      <td>5</td>\n",
       "      <td>0</td>\n",
       "      <td>3</td>\n",
       "      <td>Allen, Mr. William Henry</td>\n",
       "      <td>male</td>\n",
       "      <td>35.0</td>\n",
       "      <td>0</td>\n",
       "      <td>0</td>\n",
       "      <td>373450</td>\n",
       "      <td>8.0500</td>\n",
       "      <td>NaN</td>\n",
       "      <td>S</td>\n",
       "      <td>0</td>\n",
       "    </tr>\n",
       "  </tbody>\n",
       "</table>\n",
       "</div>"
      ],
      "text/plain": [
       "   PassengerId  Survived  Pclass  \\\n",
       "0            1         0       3   \n",
       "1            2         1       1   \n",
       "2            3         1       3   \n",
       "3            4         1       1   \n",
       "4            5         0       3   \n",
       "\n",
       "                                                Name     Sex   Age  SibSp  \\\n",
       "0                            Braund, Mr. Owen Harris    male  22.0      1   \n",
       "1  Cumings, Mrs. John Bradley (Florence Briggs Th...  female  38.0      1   \n",
       "2                             Heikkinen, Miss. Laina  female  26.0      0   \n",
       "3       Futrelle, Mrs. Jacques Heath (Lily May Peel)  female  35.0      1   \n",
       "4                           Allen, Mr. William Henry    male  35.0      0   \n",
       "\n",
       "   Parch            Ticket     Fare Cabin Embarked  FamilySize  \n",
       "0      0         A/5 21171   7.2500   NaN        S           1  \n",
       "1      0          PC 17599  71.2833   C85        C           1  \n",
       "2      0  STON/O2. 3101282   7.9250   NaN        S           0  \n",
       "3      0            113803  53.1000  C123        S           1  \n",
       "4      0            373450   8.0500   NaN        S           0  "
      ]
     },
     "execution_count": 47,
     "metadata": {},
     "output_type": "execute_result"
    }
   ],
   "source": [
    "df['FamilySize'] = df['SibSp'] + df['Parch']\n",
    "df.head()"
   ]
  },
  {
   "cell_type": "code",
   "execution_count": 48,
   "id": "39ec427f",
   "metadata": {},
   "outputs": [
    {
     "data": {
      "text/html": [
       "<div>\n",
       "<style scoped>\n",
       "    .dataframe tbody tr th:only-of-type {\n",
       "        vertical-align: middle;\n",
       "    }\n",
       "\n",
       "    .dataframe tbody tr th {\n",
       "        vertical-align: top;\n",
       "    }\n",
       "\n",
       "    .dataframe thead th {\n",
       "        text-align: right;\n",
       "    }\n",
       "</style>\n",
       "<table border=\"1\" class=\"dataframe\">\n",
       "  <thead>\n",
       "    <tr style=\"text-align: right;\">\n",
       "      <th></th>\n",
       "      <th>PassengerId</th>\n",
       "      <th>Survived</th>\n",
       "      <th>Pclass</th>\n",
       "      <th>Name</th>\n",
       "      <th>Sex</th>\n",
       "      <th>Age</th>\n",
       "      <th>Ticket</th>\n",
       "      <th>Fare</th>\n",
       "      <th>Cabin</th>\n",
       "      <th>Embarked</th>\n",
       "      <th>FamilySize</th>\n",
       "    </tr>\n",
       "  </thead>\n",
       "  <tbody>\n",
       "    <tr>\n",
       "      <th>0</th>\n",
       "      <td>1</td>\n",
       "      <td>0</td>\n",
       "      <td>3</td>\n",
       "      <td>Braund, Mr. Owen Harris</td>\n",
       "      <td>male</td>\n",
       "      <td>22.0</td>\n",
       "      <td>A/5 21171</td>\n",
       "      <td>7.2500</td>\n",
       "      <td>NaN</td>\n",
       "      <td>S</td>\n",
       "      <td>1</td>\n",
       "    </tr>\n",
       "    <tr>\n",
       "      <th>1</th>\n",
       "      <td>2</td>\n",
       "      <td>1</td>\n",
       "      <td>1</td>\n",
       "      <td>Cumings, Mrs. John Bradley (Florence Briggs Th...</td>\n",
       "      <td>female</td>\n",
       "      <td>38.0</td>\n",
       "      <td>PC 17599</td>\n",
       "      <td>71.2833</td>\n",
       "      <td>C85</td>\n",
       "      <td>C</td>\n",
       "      <td>1</td>\n",
       "    </tr>\n",
       "    <tr>\n",
       "      <th>2</th>\n",
       "      <td>3</td>\n",
       "      <td>1</td>\n",
       "      <td>3</td>\n",
       "      <td>Heikkinen, Miss. Laina</td>\n",
       "      <td>female</td>\n",
       "      <td>26.0</td>\n",
       "      <td>STON/O2. 3101282</td>\n",
       "      <td>7.9250</td>\n",
       "      <td>NaN</td>\n",
       "      <td>S</td>\n",
       "      <td>0</td>\n",
       "    </tr>\n",
       "    <tr>\n",
       "      <th>3</th>\n",
       "      <td>4</td>\n",
       "      <td>1</td>\n",
       "      <td>1</td>\n",
       "      <td>Futrelle, Mrs. Jacques Heath (Lily May Peel)</td>\n",
       "      <td>female</td>\n",
       "      <td>35.0</td>\n",
       "      <td>113803</td>\n",
       "      <td>53.1000</td>\n",
       "      <td>C123</td>\n",
       "      <td>S</td>\n",
       "      <td>1</td>\n",
       "    </tr>\n",
       "    <tr>\n",
       "      <th>4</th>\n",
       "      <td>5</td>\n",
       "      <td>0</td>\n",
       "      <td>3</td>\n",
       "      <td>Allen, Mr. William Henry</td>\n",
       "      <td>male</td>\n",
       "      <td>35.0</td>\n",
       "      <td>373450</td>\n",
       "      <td>8.0500</td>\n",
       "      <td>NaN</td>\n",
       "      <td>S</td>\n",
       "      <td>0</td>\n",
       "    </tr>\n",
       "  </tbody>\n",
       "</table>\n",
       "</div>"
      ],
      "text/plain": [
       "   PassengerId  Survived  Pclass  \\\n",
       "0            1         0       3   \n",
       "1            2         1       1   \n",
       "2            3         1       3   \n",
       "3            4         1       1   \n",
       "4            5         0       3   \n",
       "\n",
       "                                                Name     Sex   Age  \\\n",
       "0                            Braund, Mr. Owen Harris    male  22.0   \n",
       "1  Cumings, Mrs. John Bradley (Florence Briggs Th...  female  38.0   \n",
       "2                             Heikkinen, Miss. Laina  female  26.0   \n",
       "3       Futrelle, Mrs. Jacques Heath (Lily May Peel)  female  35.0   \n",
       "4                           Allen, Mr. William Henry    male  35.0   \n",
       "\n",
       "             Ticket     Fare Cabin Embarked  FamilySize  \n",
       "0         A/5 21171   7.2500   NaN        S           1  \n",
       "1          PC 17599  71.2833   C85        C           1  \n",
       "2  STON/O2. 3101282   7.9250   NaN        S           0  \n",
       "3            113803  53.1000  C123        S           1  \n",
       "4            373450   8.0500   NaN        S           0  "
      ]
     },
     "execution_count": 48,
     "metadata": {},
     "output_type": "execute_result"
    }
   ],
   "source": [
    "df.drop(['SibSp','Parch'], axis = 1, inplace = True)\n",
    "df.head()"
   ]
  },
  {
   "cell_type": "code",
   "execution_count": 49,
   "id": "ddefbaaf",
   "metadata": {},
   "outputs": [
    {
     "data": {
      "text/html": [
       "<div>\n",
       "<style scoped>\n",
       "    .dataframe tbody tr th:only-of-type {\n",
       "        vertical-align: middle;\n",
       "    }\n",
       "\n",
       "    .dataframe tbody tr th {\n",
       "        vertical-align: top;\n",
       "    }\n",
       "\n",
       "    .dataframe thead th {\n",
       "        text-align: right;\n",
       "    }\n",
       "</style>\n",
       "<table border=\"1\" class=\"dataframe\">\n",
       "  <thead>\n",
       "    <tr style=\"text-align: right;\">\n",
       "      <th></th>\n",
       "      <th>PassengerId</th>\n",
       "      <th>Survived</th>\n",
       "      <th>Pclass</th>\n",
       "      <th>Sex</th>\n",
       "      <th>Age</th>\n",
       "      <th>Fare</th>\n",
       "      <th>Embarked</th>\n",
       "      <th>FamilySize</th>\n",
       "    </tr>\n",
       "  </thead>\n",
       "  <tbody>\n",
       "    <tr>\n",
       "      <th>0</th>\n",
       "      <td>1</td>\n",
       "      <td>0</td>\n",
       "      <td>3</td>\n",
       "      <td>male</td>\n",
       "      <td>22.0</td>\n",
       "      <td>7.2500</td>\n",
       "      <td>S</td>\n",
       "      <td>1</td>\n",
       "    </tr>\n",
       "    <tr>\n",
       "      <th>1</th>\n",
       "      <td>2</td>\n",
       "      <td>1</td>\n",
       "      <td>1</td>\n",
       "      <td>female</td>\n",
       "      <td>38.0</td>\n",
       "      <td>71.2833</td>\n",
       "      <td>C</td>\n",
       "      <td>1</td>\n",
       "    </tr>\n",
       "    <tr>\n",
       "      <th>2</th>\n",
       "      <td>3</td>\n",
       "      <td>1</td>\n",
       "      <td>3</td>\n",
       "      <td>female</td>\n",
       "      <td>26.0</td>\n",
       "      <td>7.9250</td>\n",
       "      <td>S</td>\n",
       "      <td>0</td>\n",
       "    </tr>\n",
       "    <tr>\n",
       "      <th>3</th>\n",
       "      <td>4</td>\n",
       "      <td>1</td>\n",
       "      <td>1</td>\n",
       "      <td>female</td>\n",
       "      <td>35.0</td>\n",
       "      <td>53.1000</td>\n",
       "      <td>S</td>\n",
       "      <td>1</td>\n",
       "    </tr>\n",
       "    <tr>\n",
       "      <th>4</th>\n",
       "      <td>5</td>\n",
       "      <td>0</td>\n",
       "      <td>3</td>\n",
       "      <td>male</td>\n",
       "      <td>35.0</td>\n",
       "      <td>8.0500</td>\n",
       "      <td>S</td>\n",
       "      <td>0</td>\n",
       "    </tr>\n",
       "  </tbody>\n",
       "</table>\n",
       "</div>"
      ],
      "text/plain": [
       "   PassengerId  Survived  Pclass     Sex   Age     Fare Embarked  FamilySize\n",
       "0            1         0       3    male  22.0   7.2500        S           1\n",
       "1            2         1       1  female  38.0  71.2833        C           1\n",
       "2            3         1       3  female  26.0   7.9250        S           0\n",
       "3            4         1       1  female  35.0  53.1000        S           1\n",
       "4            5         0       3    male  35.0   8.0500        S           0"
      ]
     },
     "execution_count": 49,
     "metadata": {},
     "output_type": "execute_result"
    }
   ],
   "source": [
    "df.drop(['Name', 'Ticket', 'Cabin'], axis = 1, inplace = True)\n",
    "df.head()"
   ]
  },
  {
   "cell_type": "markdown",
   "id": "50a7490e",
   "metadata": {},
   "source": [
    "### Imputation of 'Age' missing data\n",
    "\n",
    "The initial approach to estimate 'Age' missing values was to fill with a placeholder value (1000). One way to improve the imputation method is to estimate the missing values based on known relationships. In our case, we can do this by using the information in the variable 'Name'. Looking to 'Name' values, we can see person's name and title. Person's title is a relevant information to estimate ages.\n",
    "\n",
    "The steps to implement this imputation method are:\n",
    "\n",
    "- Extract titles from 'Name'.\n",
    "- Plot a figure with both features and confirm that there is a connection between titles and age.\n",
    "- For each title, get people's average age and use it to fill missing values."
   ]
  },
  {
   "cell_type": "code",
   "execution_count": 50,
   "id": "b74c9ffb",
   "metadata": {},
   "outputs": [
    {
     "data": {
      "text/plain": [
       "array(['Braund, Mr. Owen Harris',\n",
       "       'Cumings, Mrs. John Bradley (Florence Briggs Thayer)',\n",
       "       'Heikkinen, Miss. Laina',\n",
       "       'Futrelle, Mrs. Jacques Heath (Lily May Peel)',\n",
       "       'Allen, Mr. William Henry', 'Moran, Mr. James',\n",
       "       'McCarthy, Mr. Timothy J', 'Palsson, Master. Gosta Leonard',\n",
       "       'Johnson, Mrs. Oscar W (Elisabeth Vilhelmina Berg)',\n",
       "       'Nasser, Mrs. Nicholas (Adele Achem)'], dtype=object)"
      ]
     },
     "execution_count": 50,
     "metadata": {},
     "output_type": "execute_result"
    }
   ],
   "source": [
    "df_org['Name'].unique()[:10]"
   ]
  },
  {
   "cell_type": "markdown",
   "id": "435a41c4",
   "metadata": {},
   "source": [
    "The rule seems to be: 'last name' + ',' + 'title' + 'other names'"
   ]
  },
  {
   "cell_type": "code",
   "execution_count": 51,
   "id": "8b60983c",
   "metadata": {},
   "outputs": [
    {
     "data": {
      "text/html": [
       "<div>\n",
       "<style scoped>\n",
       "    .dataframe tbody tr th:only-of-type {\n",
       "        vertical-align: middle;\n",
       "    }\n",
       "\n",
       "    .dataframe tbody tr th {\n",
       "        vertical-align: top;\n",
       "    }\n",
       "\n",
       "    .dataframe thead th {\n",
       "        text-align: right;\n",
       "    }\n",
       "</style>\n",
       "<table border=\"1\" class=\"dataframe\">\n",
       "  <thead>\n",
       "    <tr style=\"text-align: right;\">\n",
       "      <th></th>\n",
       "      <th>PassengerId</th>\n",
       "      <th>Survived</th>\n",
       "      <th>Pclass</th>\n",
       "      <th>Sex</th>\n",
       "      <th>Age</th>\n",
       "      <th>Fare</th>\n",
       "      <th>Embarked</th>\n",
       "      <th>FamilySize</th>\n",
       "      <th>Titles</th>\n",
       "    </tr>\n",
       "  </thead>\n",
       "  <tbody>\n",
       "    <tr>\n",
       "      <th>0</th>\n",
       "      <td>1</td>\n",
       "      <td>0</td>\n",
       "      <td>3</td>\n",
       "      <td>male</td>\n",
       "      <td>22.0</td>\n",
       "      <td>7.2500</td>\n",
       "      <td>S</td>\n",
       "      <td>1</td>\n",
       "      <td>Mr</td>\n",
       "    </tr>\n",
       "    <tr>\n",
       "      <th>1</th>\n",
       "      <td>2</td>\n",
       "      <td>1</td>\n",
       "      <td>1</td>\n",
       "      <td>female</td>\n",
       "      <td>38.0</td>\n",
       "      <td>71.2833</td>\n",
       "      <td>C</td>\n",
       "      <td>1</td>\n",
       "      <td>Mrs</td>\n",
       "    </tr>\n",
       "    <tr>\n",
       "      <th>2</th>\n",
       "      <td>3</td>\n",
       "      <td>1</td>\n",
       "      <td>3</td>\n",
       "      <td>female</td>\n",
       "      <td>26.0</td>\n",
       "      <td>7.9250</td>\n",
       "      <td>S</td>\n",
       "      <td>0</td>\n",
       "      <td>Miss</td>\n",
       "    </tr>\n",
       "    <tr>\n",
       "      <th>3</th>\n",
       "      <td>4</td>\n",
       "      <td>1</td>\n",
       "      <td>1</td>\n",
       "      <td>female</td>\n",
       "      <td>35.0</td>\n",
       "      <td>53.1000</td>\n",
       "      <td>S</td>\n",
       "      <td>1</td>\n",
       "      <td>Mrs</td>\n",
       "    </tr>\n",
       "    <tr>\n",
       "      <th>4</th>\n",
       "      <td>5</td>\n",
       "      <td>0</td>\n",
       "      <td>3</td>\n",
       "      <td>male</td>\n",
       "      <td>35.0</td>\n",
       "      <td>8.0500</td>\n",
       "      <td>S</td>\n",
       "      <td>0</td>\n",
       "      <td>Mr</td>\n",
       "    </tr>\n",
       "  </tbody>\n",
       "</table>\n",
       "</div>"
      ],
      "text/plain": [
       "   PassengerId  Survived  Pclass     Sex   Age     Fare Embarked  FamilySize  \\\n",
       "0            1         0       3    male  22.0   7.2500        S           1   \n",
       "1            2         1       1  female  38.0  71.2833        C           1   \n",
       "2            3         1       3  female  26.0   7.9250        S           0   \n",
       "3            4         1       1  female  35.0  53.1000        S           1   \n",
       "4            5         0       3    male  35.0   8.0500        S           0   \n",
       "\n",
       "  Titles  \n",
       "0     Mr  \n",
       "1    Mrs  \n",
       "2   Miss  \n",
       "3    Mrs  \n",
       "4     Mr  "
      ]
     },
     "execution_count": 51,
     "metadata": {},
     "output_type": "execute_result"
    }
   ],
   "source": [
    "df['Titles'] = 0\n",
    "df['Titles'] = df_org['Name'].str.extract('([A-Za-z]+)\\.', expand = False)\n",
    "df.head()"
   ]
  },
  {
   "cell_type": "code",
   "execution_count": 52,
   "id": "36b2d5f0",
   "metadata": {},
   "outputs": [
    {
     "data": {
      "text/plain": [
       "array(['Mr', 'Mrs', 'Miss', 'Master', 'Don', 'Rev', 'Dr', 'Mme', 'Ms',\n",
       "       'Major', 'Lady', 'Sir', 'Mlle', 'Col', 'Capt', 'Countess',\n",
       "       'Jonkheer'], dtype=object)"
      ]
     },
     "execution_count": 52,
     "metadata": {},
     "output_type": "execute_result"
    }
   ],
   "source": [
    "df['Titles'].unique()"
   ]
  },
  {
   "cell_type": "code",
   "execution_count": 53,
   "id": "015056ec",
   "metadata": {},
   "outputs": [
    {
     "data": {
      "image/png": "[encoded data removed]",
      "text/plain": [
       "<Figure size 1500x500 with 1 Axes>"
      ]
     },
     "metadata": {},
     "output_type": "display_data"
    }
   ],
   "source": [
    "plt.figure(figsize = (15,5))\n",
    "sns.barplot( x = df['Titles'], y = df_org['Age'])\n",
    "plt.show()"
   ]
  },
  {
   "cell_type": "markdown",
   "id": "a2816568",
   "metadata": {},
   "source": [
    "Apart from Rev and Dr, which have a larger error bar, the mean value seems to accurately represent the data of all the other features. "
   ]
  },
  {
   "cell_type": "code",
   "execution_count": 54,
   "id": "ebbf5e8d",
   "metadata": {},
   "outputs": [
    {
     "data": {
      "text/plain": [
       "Titles\n",
       "Capt        70.0\n",
       "Col         58.0\n",
       "Countess    33.0\n",
       "Don         40.0\n",
       "Dr          42.0\n",
       "Name: Age, dtype: float64"
      ]
     },
     "execution_count": 54,
     "metadata": {},
     "output_type": "execute_result"
    }
   ],
   "source": [
    "df_org['Titles'] = df['Titles']\n",
    "means = df_org.groupby('Titles')['Age'].mean()\n",
    "means.head()"
   ]
  },
  {
   "cell_type": "code",
   "execution_count": 55,
   "id": "aa15dc38",
   "metadata": {},
   "outputs": [
    {
     "data": {
      "text/plain": [
       "{'Capt': 70.0,\n",
       " 'Col': 58.0,\n",
       " 'Countess': 33.0,\n",
       " 'Don': 40.0,\n",
       " 'Dr': 42.0,\n",
       " 'Jonkheer': 38.0,\n",
       " 'Lady': 48.0,\n",
       " 'Major': 48.5,\n",
       " 'Master': 4.574166666666667,\n",
       " 'Miss': 21.773972602739725,\n",
       " 'Mlle': 24.0,\n",
       " 'Mme': 24.0,\n",
       " 'Mr': 32.368090452261306,\n",
       " 'Mrs': 35.898148148148145,\n",
       " 'Ms': 28.0,\n",
       " 'Rev': 43.166666666666664,\n",
       " 'Sir': 49.0}"
      ]
     },
     "execution_count": 55,
     "metadata": {},
     "output_type": "execute_result"
    }
   ],
   "source": [
    "map_means = means.to_dict()\n",
    "map_means"
   ]
  },
  {
   "cell_type": "code",
   "execution_count": 56,
   "id": "d306e7e4",
   "metadata": {},
   "outputs": [
    {
     "data": {
      "text/html": [
       "<div>\n",
       "<style scoped>\n",
       "    .dataframe tbody tr th:only-of-type {\n",
       "        vertical-align: middle;\n",
       "    }\n",
       "\n",
       "    .dataframe tbody tr th {\n",
       "        vertical-align: top;\n",
       "    }\n",
       "\n",
       "    .dataframe thead th {\n",
       "        text-align: right;\n",
       "    }\n",
       "</style>\n",
       "<table border=\"1\" class=\"dataframe\">\n",
       "  <thead>\n",
       "    <tr style=\"text-align: right;\">\n",
       "      <th></th>\n",
       "      <th>PassengerId</th>\n",
       "      <th>Survived</th>\n",
       "      <th>Pclass</th>\n",
       "      <th>Sex</th>\n",
       "      <th>Age</th>\n",
       "      <th>Fare</th>\n",
       "      <th>Embarked</th>\n",
       "      <th>FamilySize</th>\n",
       "      <th>Titles</th>\n",
       "    </tr>\n",
       "  </thead>\n",
       "  <tbody>\n",
       "    <tr>\n",
       "      <th>0</th>\n",
       "      <td>1</td>\n",
       "      <td>0</td>\n",
       "      <td>3</td>\n",
       "      <td>male</td>\n",
       "      <td>22.0</td>\n",
       "      <td>7.2500</td>\n",
       "      <td>S</td>\n",
       "      <td>1</td>\n",
       "      <td>Mr</td>\n",
       "    </tr>\n",
       "    <tr>\n",
       "      <th>1</th>\n",
       "      <td>2</td>\n",
       "      <td>1</td>\n",
       "      <td>1</td>\n",
       "      <td>female</td>\n",
       "      <td>38.0</td>\n",
       "      <td>71.2833</td>\n",
       "      <td>C</td>\n",
       "      <td>1</td>\n",
       "      <td>Mrs</td>\n",
       "    </tr>\n",
       "    <tr>\n",
       "      <th>2</th>\n",
       "      <td>3</td>\n",
       "      <td>1</td>\n",
       "      <td>3</td>\n",
       "      <td>female</td>\n",
       "      <td>26.0</td>\n",
       "      <td>7.9250</td>\n",
       "      <td>S</td>\n",
       "      <td>0</td>\n",
       "      <td>Miss</td>\n",
       "    </tr>\n",
       "    <tr>\n",
       "      <th>3</th>\n",
       "      <td>4</td>\n",
       "      <td>1</td>\n",
       "      <td>1</td>\n",
       "      <td>female</td>\n",
       "      <td>35.0</td>\n",
       "      <td>53.1000</td>\n",
       "      <td>S</td>\n",
       "      <td>1</td>\n",
       "      <td>Mrs</td>\n",
       "    </tr>\n",
       "    <tr>\n",
       "      <th>4</th>\n",
       "      <td>5</td>\n",
       "      <td>0</td>\n",
       "      <td>3</td>\n",
       "      <td>male</td>\n",
       "      <td>35.0</td>\n",
       "      <td>8.0500</td>\n",
       "      <td>S</td>\n",
       "      <td>0</td>\n",
       "      <td>Mr</td>\n",
       "    </tr>\n",
       "  </tbody>\n",
       "</table>\n",
       "</div>"
      ],
      "text/plain": [
       "   PassengerId  Survived  Pclass     Sex   Age     Fare Embarked  FamilySize  \\\n",
       "0            1         0       3    male  22.0   7.2500        S           1   \n",
       "1            2         1       1  female  38.0  71.2833        C           1   \n",
       "2            3         1       3  female  26.0   7.9250        S           0   \n",
       "3            4         1       1  female  35.0  53.1000        S           1   \n",
       "4            5         0       3    male  35.0   8.0500        S           0   \n",
       "\n",
       "  Titles  \n",
       "0     Mr  \n",
       "1    Mrs  \n",
       "2   Miss  \n",
       "3    Mrs  \n",
       "4     Mr  "
      ]
     },
     "execution_count": 56,
     "metadata": {},
     "output_type": "execute_result"
    }
   ],
   "source": [
    "idx_nan_age = df.loc[np.isnan(df['Age'])].index\n",
    "df.loc[idx_nan_age, 'Age'] = df['Titles'].loc[idx_nan_age].map(map_means)\n",
    "df.head()"
   ]
  },
  {
   "cell_type": "code",
   "execution_count": 57,
   "id": "3a4ea8dd",
   "metadata": {},
   "outputs": [
    {
     "data": {
      "text/html": [
       "<div>\n",
       "<style scoped>\n",
       "    .dataframe tbody tr th:only-of-type {\n",
       "        vertical-align: middle;\n",
       "    }\n",
       "\n",
       "    .dataframe tbody tr th {\n",
       "        vertical-align: top;\n",
       "    }\n",
       "\n",
       "    .dataframe thead th {\n",
       "        text-align: right;\n",
       "    }\n",
       "</style>\n",
       "<table border=\"1\" class=\"dataframe\">\n",
       "  <thead>\n",
       "    <tr style=\"text-align: right;\">\n",
       "      <th></th>\n",
       "      <th>PassengerId</th>\n",
       "      <th>Survived</th>\n",
       "      <th>Pclass</th>\n",
       "      <th>Sex</th>\n",
       "      <th>Age</th>\n",
       "      <th>Fare</th>\n",
       "      <th>Embarked</th>\n",
       "      <th>FamilySize</th>\n",
       "      <th>Titles</th>\n",
       "      <th>Imputed</th>\n",
       "    </tr>\n",
       "  </thead>\n",
       "  <tbody>\n",
       "    <tr>\n",
       "      <th>0</th>\n",
       "      <td>1</td>\n",
       "      <td>0</td>\n",
       "      <td>3</td>\n",
       "      <td>male</td>\n",
       "      <td>22.0</td>\n",
       "      <td>7.2500</td>\n",
       "      <td>S</td>\n",
       "      <td>1</td>\n",
       "      <td>Mr</td>\n",
       "      <td>0</td>\n",
       "    </tr>\n",
       "    <tr>\n",
       "      <th>1</th>\n",
       "      <td>2</td>\n",
       "      <td>1</td>\n",
       "      <td>1</td>\n",
       "      <td>female</td>\n",
       "      <td>38.0</td>\n",
       "      <td>71.2833</td>\n",
       "      <td>C</td>\n",
       "      <td>1</td>\n",
       "      <td>Mrs</td>\n",
       "      <td>0</td>\n",
       "    </tr>\n",
       "    <tr>\n",
       "      <th>2</th>\n",
       "      <td>3</td>\n",
       "      <td>1</td>\n",
       "      <td>3</td>\n",
       "      <td>female</td>\n",
       "      <td>26.0</td>\n",
       "      <td>7.9250</td>\n",
       "      <td>S</td>\n",
       "      <td>0</td>\n",
       "      <td>Miss</td>\n",
       "      <td>0</td>\n",
       "    </tr>\n",
       "    <tr>\n",
       "      <th>3</th>\n",
       "      <td>4</td>\n",
       "      <td>1</td>\n",
       "      <td>1</td>\n",
       "      <td>female</td>\n",
       "      <td>35.0</td>\n",
       "      <td>53.1000</td>\n",
       "      <td>S</td>\n",
       "      <td>1</td>\n",
       "      <td>Mrs</td>\n",
       "      <td>0</td>\n",
       "    </tr>\n",
       "    <tr>\n",
       "      <th>4</th>\n",
       "      <td>5</td>\n",
       "      <td>0</td>\n",
       "      <td>3</td>\n",
       "      <td>male</td>\n",
       "      <td>35.0</td>\n",
       "      <td>8.0500</td>\n",
       "      <td>S</td>\n",
       "      <td>0</td>\n",
       "      <td>Mr</td>\n",
       "      <td>0</td>\n",
       "    </tr>\n",
       "  </tbody>\n",
       "</table>\n",
       "</div>"
      ],
      "text/plain": [
       "   PassengerId  Survived  Pclass     Sex   Age     Fare Embarked  FamilySize  \\\n",
       "0            1         0       3    male  22.0   7.2500        S           1   \n",
       "1            2         1       1  female  38.0  71.2833        C           1   \n",
       "2            3         1       3  female  26.0   7.9250        S           0   \n",
       "3            4         1       1  female  35.0  53.1000        S           1   \n",
       "4            5         0       3    male  35.0   8.0500        S           0   \n",
       "\n",
       "  Titles  Imputed  \n",
       "0     Mr        0  \n",
       "1    Mrs        0  \n",
       "2   Miss        0  \n",
       "3    Mrs        0  \n",
       "4     Mr        0  "
      ]
     },
     "execution_count": 57,
     "metadata": {},
     "output_type": "execute_result"
    }
   ],
   "source": [
    "df['Imputed'] = 0\n",
    "df.loc[idx_nan_age, 'Imputed'] = 1\n",
    "df.head()"
   ]
  },
  {
   "cell_type": "markdown",
   "id": "1bcc6a42",
   "metadata": {},
   "source": [
    "## Exploratory Data Anaysis (EDA)\n",
    "\n",
    "We have to do a heavy data analysis process but we don't want get lost in it. To avoid this we are going to follow a hypothesis driven approach. The hypothesis driven approach consists in establishing hypothesis about the variables behaviour and their relationships, early in the process, to then focus on using data to prove (or disprove) those hypothesis. This makes our analysis very objective because we will be collecting just enough data to test specific hypothesis. \n",
    "\n",
    "We will start by listing each of the variables and generate hypothesis about their relationship with the target variable ('Survived'). Then, we will test those hypothesis through a set of exploratory data analysis tools. As a result, we'll end up with a comprehensive view about the variables that should belong to our prediction model.\n",
    "\n",
    "- **PassengerId.** This is just an unique identification of each passenger. It's not expected to be relevant to the analysis.\n",
    "- **Survived.** Target variable. \n",
    "- **Pclass.** This is the ticket class. First class should have a higher survival rate.\n",
    "- **Name.** Names are accompanied by a title. As a consequence, it can lead to different forms of treatment. \n",
    "- **Sex.** This shuld important. Women are usually evacuated first in a disaster.\n",
    "- **Age.** Same as sex. Children also are usually evacuated first in a disaster.\n",
    "- **SibSp.** Number of siblings/spouses aboard the Titanic. I'd say that it's easier to survive if you're travelling alone than if you're with your family.\n",
    "- **Parch.** Number of parents/children aboard the Titanic. It should play with 'SibSp'.\n",
    "- **Ticket.** This is the ticket number. Unless it has some information about places, it shouldn't be important for prediction purposes.\n",
    "- **Fare.** Same logic as 'Pclass'.\n",
    "- **Cabin.** The cabin number can indicate where people were during the disaster. It wouldn't be surprising if it had some influence in survival chances, but this variable was excluded due to the high percentage of missing values.\n",
    "- **Embarked.** It's not expectable that people coming from Cherbourg are more unlucky than people coming from Southampton. I would say that this variable is not too important."
   ]
  },
  {
   "cell_type": "markdown",
   "id": "6df9376f",
   "metadata": {},
   "source": [
    "### PClass\n",
    "\n",
    "Our hypothesis is that the higher the class, the higher the chances of survival. This means that a person travelling in the first class has a higher chance of survival than a person traveling on the second or third class."
   ]
  },
  {
   "cell_type": "code",
   "execution_count": 58,
   "id": "01863c8b",
   "metadata": {},
   "outputs": [
    {
     "data": {
      "text/plain": [
       "<AxesSubplot: xlabel='Pclass', ylabel='Survived'>"
      ]
     },
     "execution_count": 58,
     "metadata": {},
     "output_type": "execute_result"
    },
    {
     "data": {
      "image/png": "[encoded data removed]",
      "text/plain": [
       "<Figure size 640x480 with 1 Axes>"
      ]
     },
     "metadata": {},
     "output_type": "display_data"
    }
   ],
   "source": [
    "sns.barplot(x = df['Pclass'], y = df['Survived'])"
   ]
  },
  {
   "cell_type": "markdown",
   "id": "b057919f",
   "metadata": {},
   "source": [
    "As we can see, about 60% of the people travelling in the first class survived. In contrast, only approximately 25% of the people travelling in the third class survived. Accordingly, this plot suggests that the class in which people travel affects the chances of survival."
   ]
  },
  {
   "cell_type": "markdown",
   "id": "c91a045e",
   "metadata": {},
   "source": [
    "### Name/Titles\n",
    "\n",
    "Our assumption is that people's title influences how they are treated. In our case, we have several titles, but only some of them are shared by a significant number of people. \n",
    "\n",
    "Let's analyse the title and see if we can can find a sensible way to group them."
   ]
  },
  {
   "cell_type": "code",
   "execution_count": 59,
   "id": "f8fdf23c",
   "metadata": {},
   "outputs": [
    {
     "data": {
      "text/plain": [
       "Titles\n",
       "Capt          1\n",
       "Col           2\n",
       "Countess      1\n",
       "Don           1\n",
       "Dr            7\n",
       "Jonkheer      1\n",
       "Lady          1\n",
       "Major         2\n",
       "Master       40\n",
       "Miss        182\n",
       "Mlle          2\n",
       "Mme           1\n",
       "Mr          517\n",
       "Mrs         125\n",
       "Ms            1\n",
       "Rev           6\n",
       "Sir           1\n",
       "Name: PassengerId, dtype: int64"
      ]
     },
     "execution_count": 59,
     "metadata": {},
     "output_type": "execute_result"
    }
   ],
   "source": [
    "df.groupby('Titles')['PassengerId'].count()"
   ]
  },
  {
   "cell_type": "markdown",
   "id": "43b20eae",
   "metadata": {},
   "source": [
    "We can see that:\n",
    "\n",
    "- Titles like 'Master', 'Miss', 'Mr', and 'Mrs', appear several times. Accordingly, we will not group them.\n",
    "- Regarding Mme and Mlle, we can see here that they correspond to the categories Mrs and Miss, respectively. As a consequence, we will assign them to those titles.\n",
    "- Finally, we will group all the other titles in a new title named 'Other'. Then, we will define 'Title' as a categorical feature and plot it to see how it looks like. "
   ]
  },
  {
   "cell_type": "code",
   "execution_count": 60,
   "id": "eaadaab6",
   "metadata": {},
   "outputs": [],
   "source": [
    "titles_dict = {'Capt': 'Other',\n",
    "               'Major': 'Other',\n",
    "               'Jonkheer': 'Other',\n",
    "               'Don': 'Other',\n",
    "               'Sir': 'Other',\n",
    "               'Dr': 'Other',\n",
    "               'Rev': 'Other',\n",
    "               'Countess': 'Other',\n",
    "               'Dona': 'Other',\n",
    "               'Mme': 'Mrs',\n",
    "               'Mlle': 'Miss',\n",
    "               'Ms': 'Miss',\n",
    "               'Mr': 'Mr',\n",
    "               'Mrs': 'Mrs',\n",
    "               'Miss': 'Miss',\n",
    "               'Master': 'Master',\n",
    "               'Lady': 'Other'}"
   ]
  },
  {
   "cell_type": "code",
   "execution_count": 61,
   "id": "ed279359",
   "metadata": {},
   "outputs": [
    {
     "data": {
      "text/plain": [
       "0      Mr\n",
       "1     Mrs\n",
       "2    Miss\n",
       "3     Mrs\n",
       "4      Mr\n",
       "Name: Titles, dtype: object"
      ]
     },
     "execution_count": 61,
     "metadata": {},
     "output_type": "execute_result"
    }
   ],
   "source": [
    "df['Titles'] = df['Titles'].map(titles_dict)\n",
    "df['Titles'].head()"
   ]
  },
  {
   "cell_type": "code",
   "execution_count": 62,
   "id": "6b275304",
   "metadata": {},
   "outputs": [
    {
     "data": {
      "text/plain": [
       "PassengerId       int64\n",
       "Survived          int64\n",
       "Pclass            int64\n",
       "Sex              object\n",
       "Age             float64\n",
       "Fare            float64\n",
       "Embarked         object\n",
       "FamilySize        int64\n",
       "Titles         category\n",
       "Imputed           int64\n",
       "dtype: object"
      ]
     },
     "execution_count": 62,
     "metadata": {},
     "output_type": "execute_result"
    }
   ],
   "source": [
    "df['Titles'] = pd.Categorical(df['Titles'])\n",
    "df.dtypes"
   ]
  },
  {
   "cell_type": "code",
   "execution_count": 63,
   "id": "35bf3855",
   "metadata": {},
   "outputs": [
    {
     "data": {
      "text/plain": [
       "<AxesSubplot: xlabel='Titles', ylabel='Survived'>"
      ]
     },
     "execution_count": 63,
     "metadata": {},
     "output_type": "execute_result"
    },
    {
     "data": {
      "image/png": "[encoded data removed]",
      "text/plain": [
       "<Figure size 640x480 with 1 Axes>"
      ]
     },
     "metadata": {},
     "output_type": "display_data"
    }
   ],
   "source": [
    "sns.barplot(x = df['Titles'], y = df['Survived'])"
   ]
  },
  {
   "cell_type": "markdown",
   "id": "fab11aab",
   "metadata": {},
   "source": [
    "The results suggest that:\n",
    "\n",
    "- People with the title 'Mr' survived less than people with any other title.\n",
    "- Titles with a survival rate higher than 50% are those that correspond to female (Miss or Mrs) or children (Master) titles.\n",
    "- The new category, 'Other', should be more discretized. As we can see by the error bar, there is a significant uncertainty around the mean value. Probably, one of the problems is that we are mixing male and female titles in the 'Other' category. Also, the category 'Master' seems to have a similar problem. We will keep these two situations in our mind for future improvement of our data set."
   ]
  },
  {
   "cell_type": "markdown",
   "id": "653633de",
   "metadata": {},
   "source": [
    "### Sex\n",
    "\n",
    "We already have seen that women had a higher survival rate. But, let's make a plot to make sure what's going on."
   ]
  },
  {
   "cell_type": "code",
   "execution_count": 64,
   "id": "54e052b1",
   "metadata": {},
   "outputs": [],
   "source": [
    "df['Sex'] = pd.Categorical(df['Sex'])"
   ]
  },
  {
   "cell_type": "code",
   "execution_count": 65,
   "id": "2db1f410",
   "metadata": {},
   "outputs": [
    {
     "data": {
      "text/plain": [
       "<AxesSubplot: xlabel='Sex', ylabel='Survived'>"
      ]
     },
     "execution_count": 65,
     "metadata": {},
     "output_type": "execute_result"
    },
    {
     "data": {
      "image/png": "[encoded data removed]",
      "text/plain": [
       "<Figure size 640x480 with 1 Axes>"
      ]
     },
     "metadata": {},
     "output_type": "display_data"
    }
   ],
   "source": [
    "sns.barplot(x = df['Sex'], y = df['Survived'])"
   ]
  },
  {
   "cell_type": "markdown",
   "id": "d5e57fd5",
   "metadata": {},
   "source": [
    "The hypothesis seems to be right."
   ]
  },
  {
   "cell_type": "markdown",
   "id": "dce2ce4c",
   "metadata": {},
   "source": [
    "### Age\n",
    "\n",
    "The hypothesis is that children are more prone to survive than adult people. About elders we can consideren they are the most vulnerable, so this can play for both sides: either people help elders because they are more vulnerable, or they they are not able to cope with the challenges posed by the wreck of a ship.\n",
    "\n",
    "Let's do  a bar plot to help us understanding the situation."
   ]
  },
  {
   "cell_type": "code",
   "execution_count": 66,
   "id": "7e9b8fda",
   "metadata": {},
   "outputs": [
    {
     "data": {
      "image/png": "[encoded data removed]",
      "text/plain": [
       "<Figure size 2500x1000 with 1 Axes>"
      ]
     },
     "metadata": {},
     "output_type": "display_data"
    }
   ],
   "source": [
    "plt.figure(figsize = (25,10))\n",
    "sns.barplot(x = df['Age'].round(1), y = df['Survived'], errorbar = ('ci', False))\n",
    "plt.xticks(rotation = 90)\n",
    "plt.show()"
   ]
  },
  {
   "cell_type": "markdown",
   "id": "2dc78073",
   "metadata": {},
   "source": [
    "Not being totaly objetive we can say that the plot has three regions:\n",
    "\n",
    "- One region that goes between age 0 and 15;\n",
    "- One between age 15 and 48;\n",
    "- A last one between age 48 and 80.\n",
    "\n",
    "This division is arguable. However, this categories split fits into: childrens, adults and elders. For now, let's proceed this way."
   ]
  },
  {
   "cell_type": "code",
   "execution_count": 69,
   "id": "93f22353",
   "metadata": {},
   "outputs": [
    {
     "data": {
      "image/png": "[encoded data removed]",
      "text/plain": [
       "<Figure size 2500x1000 with 1 Axes>"
      ]
     },
     "metadata": {},
     "output_type": "display_data"
    }
   ],
   "source": [
    "limit_1 = 12\n",
    "limit_2 = 50\n",
    "\n",
    "x_limit_1 = np.size(df[df['Age'] < limit_1]['Age'].unique())\n",
    "x_limit_2 = np.size(df[df['Age'] < limit_2]['Age'].unique())\n",
    "\n",
    "plt.figure(figsize = (25,10))\n",
    "sns.barplot(x = df['Age'].round(1), y = df['Survived'], errorbar = ('ci', False))\n",
    "\n",
    "plt.axvspan(-1, x_limit_1, alpha = 0.25, color = 'green')\n",
    "plt.axvspan(x_limit_1, x_limit_2, alpha = 0.25, color = 'red')\n",
    "plt.axvspan(x_limit_2, 91, alpha = 0.25, color = 'yellow')\n",
    "\n",
    "plt.xticks(rotation = 90)\n",
    "plt.show()"
   ]
  },
  {
   "cell_type": "code",
   "execution_count": 70,
   "id": "68d2ab60",
   "metadata": {},
   "outputs": [
    {
     "data": {
      "text/plain": [
       "0    Adult\n",
       "1    Adult\n",
       "2    Adult\n",
       "3    Adult\n",
       "4    Adult\n",
       "Name: Age, dtype: category\n",
       "Categories (3, object): ['Child' < 'Adult' < 'Elder']"
      ]
     },
     "execution_count": 70,
     "metadata": {},
     "output_type": "execute_result"
    }
   ],
   "source": [
    "df['Age'] = pd.cut(df['Age'], bins = [0, 12, 50, 200], labels = ['Child', 'Adult', 'Elder'])\n",
    "df['Age'].head()"
   ]
  },
  {
   "cell_type": "code",
   "execution_count": 71,
   "id": "070d6b5c",
   "metadata": {},
   "outputs": [
    {
     "data": {
      "image/png": "[encoded data removed]",
      "text/plain": [
       "<Figure size 640x480 with 1 Axes>"
      ]
     },
     "metadata": {},
     "output_type": "display_data"
    }
   ],
   "source": [
    "sns.barplot(x = df['Age'], y = df['Survived'])\n",
    "plt.show()"
   ]
  },
  {
   "cell_type": "markdown",
   "id": "e6b0ec2e",
   "metadata": {},
   "source": [
    "The plot shows that children have a higher survival rate. It also shows that, in terms of survival, there is not a significant difference between the categories 'Adult' and 'Elder'. It seems that it would be enough to just distinguish between children and adults but for now, we will not make any change."
   ]
  },
  {
   "cell_type": "markdown",
   "id": "7d69bf63",
   "metadata": {},
   "source": [
    "### FamilySize\n",
    "\n",
    "Regarding family size, the hypothesis is that those who travel alone, have a higher survival rate. The idea is that people without family don't have to worry for others than themselves.\n",
    "\n",
    "Again, let's make a bar plot."
   ]
  },
  {
   "cell_type": "code",
   "execution_count": 72,
   "id": "e7b66d90",
   "metadata": {},
   "outputs": [
    {
     "data": {
      "image/png": "[encoded data removed]",
      "text/plain": [
       "<Figure size 640x480 with 1 Axes>"
      ]
     },
     "metadata": {},
     "output_type": "display_data"
    }
   ],
   "source": [
    "sns.barplot(x = df['FamilySize'], y = df['Survived'])\n",
    "plt.show()"
   ]
  },
  {
   "cell_type": "markdown",
   "id": "007080df",
   "metadata": {},
   "source": [
    "As we can see, when 'FamilySize' is between 0 and 3, the hypothesis isn't seem correct. People that are travelling alone have a lower survival rate than people who are travelling with one, two or three people more. However, when FamilySize is between 4 and 10, things start to change. \n",
    "\n",
    "This variable seems to be more complex than expected. Accordingly, we will leave it as a continuous variable to preserve all the information it has."
   ]
  },
  {
   "cell_type": "markdown",
   "id": "8d987f52",
   "metadata": {},
   "source": [
    "### Fare\n",
    "\n",
    "The same logic applied to 'Pclass' should work for 'Fare': higher fares, higher survival rate.\n",
    "\n",
    "Since now we want to establish comparisons across different levels of a categorical variable, we will use a box plot instead of a bar plot."
   ]
  },
  {
   "cell_type": "code",
   "execution_count": 73,
   "id": "76f2866e",
   "metadata": {},
   "outputs": [
    {
     "data": {
      "image/png": "[encoded data removed]",
      "text/plain": [
       "<Figure size 640x480 with 1 Axes>"
      ]
     },
     "metadata": {},
     "output_type": "display_data"
    }
   ],
   "source": [
    "sns.boxplot(y = df['Fare'], x = df['Survived'])\n",
    "plt.show()"
   ]
  },
  {
   "cell_type": "markdown",
   "id": "2e9836b5",
   "metadata": {},
   "source": [
    "The plot suggests that those who survived paid a higher fare. Since we believe this variable is connected with 'Pclass', let's plot them together."
   ]
  },
  {
   "cell_type": "code",
   "execution_count": 75,
   "id": "675e7d4f",
   "metadata": {},
   "outputs": [
    {
     "data": {
      "image/png": "[encoded data removed]",
      "text/plain": [
       "<Figure size 640x480 with 1 Axes>"
      ]
     },
     "metadata": {},
     "output_type": "display_data"
    }
   ],
   "source": [
    "sns.barplot(x = df['Survived'], y = df['Fare'], hue = df['Pclass'])\n",
    "plt.show()"
   ]
  },
  {
   "cell_type": "markdown",
   "id": "ff8b0a57",
   "metadata": {},
   "source": [
    "It seems that 'Fare' doesn't make difference, in terms of survival, if you are travelling in second or third class. However, if you are travelling in first class, the higher the fare, the higher the chances of survival. Considering this, it would make sense to create interaction features between 'Fare' and 'Pclass'."
   ]
  },
  {
   "cell_type": "markdown",
   "id": "f5845ecb",
   "metadata": {},
   "source": [
    "### Embarked\n",
    "\n",
    "The hypothesis regarding 'Embarked' is that it doesn't influence the chances of survival.  \n",
    "\n",
    "Let's do a plot."
   ]
  },
  {
   "cell_type": "code",
   "execution_count": 76,
   "id": "f35cd8c6",
   "metadata": {},
   "outputs": [
    {
     "data": {
      "image/png": "[encoded data removed]",
      "text/plain": [
       "<Figure size 640x480 with 1 Axes>"
      ]
     },
     "metadata": {},
     "output_type": "display_data"
    }
   ],
   "source": [
    "sns.barplot(x = df['Embarked'], y = df['Survived'])\n",
    "plt.show()"
   ]
  },
  {
   "cell_type": "markdown",
   "id": "cba0d406",
   "metadata": {},
   "source": [
    "This is strange and may be hidding some relationship that is not obvious with this plot (e.g. people embarking on C were mostly women). Let's dive deeper."
   ]
  },
  {
   "cell_type": "code",
   "execution_count": 77,
   "id": "f072a91c",
   "metadata": {},
   "outputs": [
    {
     "data": {
      "text/html": [
       "<div>\n",
       "<style scoped>\n",
       "    .dataframe tbody tr th:only-of-type {\n",
       "        vertical-align: middle;\n",
       "    }\n",
       "\n",
       "    .dataframe tbody tr th {\n",
       "        vertical-align: top;\n",
       "    }\n",
       "\n",
       "    .dataframe thead th {\n",
       "        text-align: right;\n",
       "    }\n",
       "</style>\n",
       "<table border=\"1\" class=\"dataframe\">\n",
       "  <thead>\n",
       "    <tr style=\"text-align: right;\">\n",
       "      <th></th>\n",
       "      <th>PassengerId</th>\n",
       "      <th>Survived</th>\n",
       "      <th>Pclass</th>\n",
       "      <th>Fare</th>\n",
       "      <th>FamilySize</th>\n",
       "      <th>Imputed</th>\n",
       "    </tr>\n",
       "    <tr>\n",
       "      <th>Embarked</th>\n",
       "      <th></th>\n",
       "      <th></th>\n",
       "      <th></th>\n",
       "      <th></th>\n",
       "      <th></th>\n",
       "      <th></th>\n",
       "    </tr>\n",
       "  </thead>\n",
       "  <tbody>\n",
       "    <tr>\n",
       "      <th>C</th>\n",
       "      <td>445.357143</td>\n",
       "      <td>0.553571</td>\n",
       "      <td>1.886905</td>\n",
       "      <td>59.954144</td>\n",
       "      <td>0.750000</td>\n",
       "      <td>0.226190</td>\n",
       "    </tr>\n",
       "    <tr>\n",
       "      <th>Q</th>\n",
       "      <td>417.896104</td>\n",
       "      <td>0.389610</td>\n",
       "      <td>2.909091</td>\n",
       "      <td>13.276030</td>\n",
       "      <td>0.597403</td>\n",
       "      <td>0.636364</td>\n",
       "    </tr>\n",
       "    <tr>\n",
       "      <th>S</th>\n",
       "      <td>449.527950</td>\n",
       "      <td>0.336957</td>\n",
       "      <td>2.350932</td>\n",
       "      <td>27.079812</td>\n",
       "      <td>0.984472</td>\n",
       "      <td>0.139752</td>\n",
       "    </tr>\n",
       "  </tbody>\n",
       "</table>\n",
       "</div>"
      ],
      "text/plain": [
       "          PassengerId  Survived    Pclass       Fare  FamilySize   Imputed\n",
       "Embarked                                                                  \n",
       "C          445.357143  0.553571  1.886905  59.954144    0.750000  0.226190\n",
       "Q          417.896104  0.389610  2.909091  13.276030    0.597403  0.636364\n",
       "S          449.527950  0.336957  2.350932  27.079812    0.984472  0.139752"
      ]
     },
     "execution_count": 77,
     "metadata": {},
     "output_type": "execute_result"
    }
   ],
   "source": [
    "df.groupby('Embarked').mean()"
   ]
  },
  {
   "cell_type": "markdown",
   "id": "3addfb0b",
   "metadata": {},
   "source": [
    "It seems that people embarking on C were paying more and travelling in a better class than people embarking on Q and S."
   ]
  },
  {
   "cell_type": "code",
   "execution_count": 78,
   "id": "7ff39e79",
   "metadata": {},
   "outputs": [
    {
     "data": {
      "text/plain": [
       "Embarked  Age  \n",
       "C         Child     13\n",
       "          Adult    140\n",
       "          Elder     15\n",
       "Q         Child      4\n",
       "          Adult     70\n",
       "          Elder      3\n",
       "S         Child     56\n",
       "          Adult    543\n",
       "          Elder     45\n",
       "Name: PassengerId, dtype: int64"
      ]
     },
     "execution_count": 78,
     "metadata": {},
     "output_type": "execute_result"
    }
   ],
   "source": [
    "df.groupby(['Embarked','Age'])['PassengerId'].count()"
   ]
  },
  {
   "cell_type": "markdown",
   "id": "564179be",
   "metadata": {},
   "source": [
    "No significant differences can be found."
   ]
  },
  {
   "cell_type": "code",
   "execution_count": 80,
   "id": "36748b5a",
   "metadata": {},
   "outputs": [
    {
     "data": {
      "text/plain": [
       "Embarked  Sex   \n",
       "C         female     73\n",
       "          male       95\n",
       "Q         female     36\n",
       "          male       41\n",
       "S         female    203\n",
       "          male      441\n",
       "Name: PassengerId, dtype: int64"
      ]
     },
     "execution_count": 80,
     "metadata": {},
     "output_type": "execute_result"
    }
   ],
   "source": [
    "df.groupby(['Embarked','Sex'])['PassengerId'].count()"
   ]
  },
  {
   "cell_type": "markdown",
   "id": "35f3450a",
   "metadata": {},
   "source": [
    "Considering the results above, what really seems to be influencing is the class where people were travelling and how much they were spending so the embarkment point doesn't influence the survival rate\n",
    "\n",
    "For now, we will not delete the variable because t's a bit of a biased conclusion. However, let's keep in mind that maybe 'Embarked' doesn't affect 'Survived'."
   ]
  },
  {
   "cell_type": "markdown",
   "id": "25499a1e",
   "metadata": {},
   "source": [
    "## Feature extraction\n",
    "\n",
    "Feature extraction addresses the problem of attaining the most informative and compact set of features, to improve the performance of machine learning models.\n",
    "\n",
    "**Informative** means that we are looking for features that can characterize the behaviour of what we are trying to model. Regarding **compact**, what we mean is that we want to exclude irrelevant features from our model. There are several reasons to exclude irrelevant features, the most important is to reduce overfitting. \n",
    "\n",
    "These two main issues are addressed two sub-sections:\n",
    "\n",
    "- **Feature engineering**, which is related to the generation of informative features\n",
    "- **Feature selection**, which regards the choice of a compact set of features."
   ]
  },
  {
   "cell_type": "markdown",
   "id": "e7c85288",
   "metadata": {},
   "source": [
    "### Feature engineering\n",
    "\n",
    "We want to convert raw data into useful features. There are several feature engineering techniques we can apply. In our case we will use just two techniques:\n",
    "\n",
    "- Box-Cox transformations (Box & Cox 1964);\n",
    "- Polynomials generation through non-linear expansions.\n",
    "\n",
    "Before the application of these techniques, we will just make some adjustments to the data, in order to prepare it for the modelling process."
   ]
  },
  {
   "cell_type": "markdown",
   "id": "6e6aca96",
   "metadata": {},
   "source": [
    "#### Data preparation"
   ]
  },
  {
   "cell_type": "code",
   "execution_count": 81,
   "id": "a71039dc",
   "metadata": {},
   "outputs": [
    {
     "data": {
      "text/html": [
       "<div>\n",
       "<style scoped>\n",
       "    .dataframe tbody tr th:only-of-type {\n",
       "        vertical-align: middle;\n",
       "    }\n",
       "\n",
       "    .dataframe tbody tr th {\n",
       "        vertical-align: top;\n",
       "    }\n",
       "\n",
       "    .dataframe thead th {\n",
       "        text-align: right;\n",
       "    }\n",
       "</style>\n",
       "<table border=\"1\" class=\"dataframe\">\n",
       "  <thead>\n",
       "    <tr style=\"text-align: right;\">\n",
       "      <th></th>\n",
       "      <th>PassengerId</th>\n",
       "      <th>Survived</th>\n",
       "      <th>Pclass</th>\n",
       "      <th>Sex</th>\n",
       "      <th>Age</th>\n",
       "      <th>Fare</th>\n",
       "      <th>Embarked</th>\n",
       "      <th>FamilySize</th>\n",
       "      <th>Titles</th>\n",
       "      <th>Imputed</th>\n",
       "    </tr>\n",
       "  </thead>\n",
       "  <tbody>\n",
       "    <tr>\n",
       "      <th>0</th>\n",
       "      <td>1</td>\n",
       "      <td>0</td>\n",
       "      <td>3</td>\n",
       "      <td>male</td>\n",
       "      <td>Adult</td>\n",
       "      <td>7.2500</td>\n",
       "      <td>S</td>\n",
       "      <td>1</td>\n",
       "      <td>Mr</td>\n",
       "      <td>0</td>\n",
       "    </tr>\n",
       "    <tr>\n",
       "      <th>1</th>\n",
       "      <td>2</td>\n",
       "      <td>1</td>\n",
       "      <td>1</td>\n",
       "      <td>female</td>\n",
       "      <td>Adult</td>\n",
       "      <td>71.2833</td>\n",
       "      <td>C</td>\n",
       "      <td>1</td>\n",
       "      <td>Mrs</td>\n",
       "      <td>0</td>\n",
       "    </tr>\n",
       "    <tr>\n",
       "      <th>2</th>\n",
       "      <td>3</td>\n",
       "      <td>1</td>\n",
       "      <td>3</td>\n",
       "      <td>female</td>\n",
       "      <td>Adult</td>\n",
       "      <td>7.9250</td>\n",
       "      <td>S</td>\n",
       "      <td>0</td>\n",
       "      <td>Miss</td>\n",
       "      <td>0</td>\n",
       "    </tr>\n",
       "    <tr>\n",
       "      <th>3</th>\n",
       "      <td>4</td>\n",
       "      <td>1</td>\n",
       "      <td>1</td>\n",
       "      <td>female</td>\n",
       "      <td>Adult</td>\n",
       "      <td>53.1000</td>\n",
       "      <td>S</td>\n",
       "      <td>1</td>\n",
       "      <td>Mrs</td>\n",
       "      <td>0</td>\n",
       "    </tr>\n",
       "    <tr>\n",
       "      <th>4</th>\n",
       "      <td>5</td>\n",
       "      <td>0</td>\n",
       "      <td>3</td>\n",
       "      <td>male</td>\n",
       "      <td>Adult</td>\n",
       "      <td>8.0500</td>\n",
       "      <td>S</td>\n",
       "      <td>0</td>\n",
       "      <td>Mr</td>\n",
       "      <td>0</td>\n",
       "    </tr>\n",
       "  </tbody>\n",
       "</table>\n",
       "</div>"
      ],
      "text/plain": [
       "   PassengerId  Survived  Pclass     Sex    Age     Fare Embarked  FamilySize  \\\n",
       "0            1         0       3    male  Adult   7.2500        S           1   \n",
       "1            2         1       1  female  Adult  71.2833        C           1   \n",
       "2            3         1       3  female  Adult   7.9250        S           0   \n",
       "3            4         1       1  female  Adult  53.1000        S           1   \n",
       "4            5         0       3    male  Adult   8.0500        S           0   \n",
       "\n",
       "  Titles  Imputed  \n",
       "0     Mr        0  \n",
       "1    Mrs        0  \n",
       "2   Miss        0  \n",
       "3    Mrs        0  \n",
       "4     Mr        0  "
      ]
     },
     "execution_count": 81,
     "metadata": {},
     "output_type": "execute_result"
    }
   ],
   "source": [
    "df.head()"
   ]
  },
  {
   "cell_type": "code",
   "execution_count": 82,
   "id": "324e0fe7",
   "metadata": {},
   "outputs": [],
   "source": [
    "df.drop('PassengerId', axis = 1, inplace = True)"
   ]
  },
  {
   "cell_type": "code",
   "execution_count": 83,
   "id": "e52aee3a",
   "metadata": {},
   "outputs": [
    {
     "data": {
      "text/plain": [
       "Survived         int64\n",
       "Pclass           int64\n",
       "Sex           category\n",
       "Age           category\n",
       "Fare           float64\n",
       "Embarked        object\n",
       "FamilySize       int64\n",
       "Titles        category\n",
       "Imputed          int64\n",
       "dtype: object"
      ]
     },
     "execution_count": 83,
     "metadata": {},
     "output_type": "execute_result"
    }
   ],
   "source": [
    "df.dtypes"
   ]
  },
  {
   "cell_type": "code",
   "execution_count": 84,
   "id": "c28b389d",
   "metadata": {},
   "outputs": [
    {
     "data": {
      "text/plain": [
       "Survived         int64\n",
       "Pclass        category\n",
       "Sex           category\n",
       "Age           category\n",
       "Fare           float64\n",
       "Embarked      category\n",
       "FamilySize       int64\n",
       "Titles        category\n",
       "Imputed          int64\n",
       "dtype: object"
      ]
     },
     "execution_count": 84,
     "metadata": {},
     "output_type": "execute_result"
    }
   ],
   "source": [
    "df['Embarked'] = pd.Categorical(df['Embarked'])\n",
    "df['Pclass'] = pd.Categorical(df['Pclass'])\n",
    "df.dtypes"
   ]
  },
  {
   "cell_type": "code",
   "execution_count": 85,
   "id": "2fbcfc3d",
   "metadata": {},
   "outputs": [
    {
     "data": {
      "text/html": [
       "<div>\n",
       "<style scoped>\n",
       "    .dataframe tbody tr th:only-of-type {\n",
       "        vertical-align: middle;\n",
       "    }\n",
       "\n",
       "    .dataframe tbody tr th {\n",
       "        vertical-align: top;\n",
       "    }\n",
       "\n",
       "    .dataframe thead th {\n",
       "        text-align: right;\n",
       "    }\n",
       "</style>\n",
       "<table border=\"1\" class=\"dataframe\">\n",
       "  <thead>\n",
       "    <tr style=\"text-align: right;\">\n",
       "      <th></th>\n",
       "      <th>Survived</th>\n",
       "      <th>Fare</th>\n",
       "      <th>FamilySize</th>\n",
       "      <th>Imputed</th>\n",
       "      <th>Pclass_2</th>\n",
       "      <th>Pclass_3</th>\n",
       "      <th>Sex_male</th>\n",
       "      <th>Age_Adult</th>\n",
       "      <th>Age_Elder</th>\n",
       "      <th>Embarked_Q</th>\n",
       "      <th>Embarked_S</th>\n",
       "      <th>Titles_Miss</th>\n",
       "      <th>Titles_Mr</th>\n",
       "      <th>Titles_Mrs</th>\n",
       "      <th>Titles_Other</th>\n",
       "    </tr>\n",
       "  </thead>\n",
       "  <tbody>\n",
       "    <tr>\n",
       "      <th>0</th>\n",
       "      <td>0</td>\n",
       "      <td>7.2500</td>\n",
       "      <td>1</td>\n",
       "      <td>0</td>\n",
       "      <td>0</td>\n",
       "      <td>1</td>\n",
       "      <td>1</td>\n",
       "      <td>1</td>\n",
       "      <td>0</td>\n",
       "      <td>0</td>\n",
       "      <td>1</td>\n",
       "      <td>0</td>\n",
       "      <td>1</td>\n",
       "      <td>0</td>\n",
       "      <td>0</td>\n",
       "    </tr>\n",
       "    <tr>\n",
       "      <th>1</th>\n",
       "      <td>1</td>\n",
       "      <td>71.2833</td>\n",
       "      <td>1</td>\n",
       "      <td>0</td>\n",
       "      <td>0</td>\n",
       "      <td>0</td>\n",
       "      <td>0</td>\n",
       "      <td>1</td>\n",
       "      <td>0</td>\n",
       "      <td>0</td>\n",
       "      <td>0</td>\n",
       "      <td>0</td>\n",
       "      <td>0</td>\n",
       "      <td>1</td>\n",
       "      <td>0</td>\n",
       "    </tr>\n",
       "    <tr>\n",
       "      <th>2</th>\n",
       "      <td>1</td>\n",
       "      <td>7.9250</td>\n",
       "      <td>0</td>\n",
       "      <td>0</td>\n",
       "      <td>0</td>\n",
       "      <td>1</td>\n",
       "      <td>0</td>\n",
       "      <td>1</td>\n",
       "      <td>0</td>\n",
       "      <td>0</td>\n",
       "      <td>1</td>\n",
       "      <td>1</td>\n",
       "      <td>0</td>\n",
       "      <td>0</td>\n",
       "      <td>0</td>\n",
       "    </tr>\n",
       "    <tr>\n",
       "      <th>3</th>\n",
       "      <td>1</td>\n",
       "      <td>53.1000</td>\n",
       "      <td>1</td>\n",
       "      <td>0</td>\n",
       "      <td>0</td>\n",
       "      <td>0</td>\n",
       "      <td>0</td>\n",
       "      <td>1</td>\n",
       "      <td>0</td>\n",
       "      <td>0</td>\n",
       "      <td>1</td>\n",
       "      <td>0</td>\n",
       "      <td>0</td>\n",
       "      <td>1</td>\n",
       "      <td>0</td>\n",
       "    </tr>\n",
       "    <tr>\n",
       "      <th>4</th>\n",
       "      <td>0</td>\n",
       "      <td>8.0500</td>\n",
       "      <td>0</td>\n",
       "      <td>0</td>\n",
       "      <td>0</td>\n",
       "      <td>1</td>\n",
       "      <td>1</td>\n",
       "      <td>1</td>\n",
       "      <td>0</td>\n",
       "      <td>0</td>\n",
       "      <td>1</td>\n",
       "      <td>0</td>\n",
       "      <td>1</td>\n",
       "      <td>0</td>\n",
       "      <td>0</td>\n",
       "    </tr>\n",
       "  </tbody>\n",
       "</table>\n",
       "</div>"
      ],
      "text/plain": [
       "   Survived     Fare  FamilySize  Imputed  Pclass_2  Pclass_3  Sex_male  \\\n",
       "0         0   7.2500           1        0         0         1         1   \n",
       "1         1  71.2833           1        0         0         0         0   \n",
       "2         1   7.9250           0        0         0         1         0   \n",
       "3         1  53.1000           1        0         0         0         0   \n",
       "4         0   8.0500           0        0         0         1         1   \n",
       "\n",
       "   Age_Adult  Age_Elder  Embarked_Q  Embarked_S  Titles_Miss  Titles_Mr  \\\n",
       "0          1          0           0           1            0          1   \n",
       "1          1          0           0           0            0          0   \n",
       "2          1          0           0           1            1          0   \n",
       "3          1          0           0           1            0          0   \n",
       "4          1          0           0           1            0          1   \n",
       "\n",
       "   Titles_Mrs  Titles_Other  \n",
       "0           0             0  \n",
       "1           1             0  \n",
       "2           0             0  \n",
       "3           1             0  \n",
       "4           0             0  "
      ]
     },
     "execution_count": 85,
     "metadata": {},
     "output_type": "execute_result"
    }
   ],
   "source": [
    "df = pd.get_dummies(df, drop_first = 1)\n",
    "df.head()"
   ]
  },
  {
   "cell_type": "code",
   "execution_count": 86,
   "id": "e2bdb6f0",
   "metadata": {},
   "outputs": [],
   "source": [
    "X = df[df.loc[:, df.columns != 'Survived'].columns]\n",
    "y = df['Survived']\n",
    "X_train, X_test, y_train, y_test = train_test_split(X, y, test_size = 0.2, random_state = 0)"
   ]
  },
  {
   "cell_type": "markdown",
   "id": "e6ec97c0",
   "metadata": {},
   "source": [
    "#### Box-Cox transformations\n",
    "\n",
    "Box-Cox transformations aim to normalize variables. These transformations are an alternative to the typical transformations, such as square root transformations, log transformations, and inverse transformations. The main advantage of Box-Cox transformations is that they optimally normalize the chosen variable. Thus, they avoid the need to randomly try different transformations and automatize the data transformation process."
   ]
  },
  {
   "cell_type": "code",
   "execution_count": 88,
   "id": "8e6b30be",
   "metadata": {},
   "outputs": [],
   "source": [
    "X_train_transformed = X_train.copy()\n",
    "X_train_transformed['Fare'] = boxcox(X_train_transformed['Fare'] + 1)[0]\n",
    "X_test_transformed = X_test.copy()\n",
    "X_test_transformed['Fare'] = boxcox(X_test_transformed['Fare'] + 1)[0]"
   ]
  },
  {
   "cell_type": "markdown",
   "id": "d8f30613",
   "metadata": {},
   "source": [
    "#### Polynomials\n",
    "\n",
    "One standard way to enrich our set of features is to generate polynomials. Polynomial expansion creates interactions between features, as well as creates powers. This way we introduce a nonlinear dimension to our data set, which can improve the predictive power of our model.\n",
    "\n",
    "We should scale our features when we have polynomial or interaction terms in our model. These terms tend to produce multicollinearity, which can make our estimates very sensitive to minor changes in the model. Scaling features to a range allow us to reduce multicollinearity and its problems.\n",
    "\n",
    "To scale the features, we will transform the data so that it lies between a given minimum and maximum value. We will follow the common practice and say that our minimum value is zero, and our maximum value is one."
   ]
  },
  {
   "cell_type": "code",
   "execution_count": 89,
   "id": "2707c56d",
   "metadata": {},
   "outputs": [],
   "source": [
    "scaler = MinMaxScaler()\n",
    "\n",
    "X_train_transformed_scaled = scaler.fit_transform(X_train_transformed)\n",
    "X_test_transformed_scaled = scaler.transform(X_test_transformed)"
   ]
  },
  {
   "cell_type": "code",
   "execution_count": 90,
   "id": "5c265867",
   "metadata": {},
   "outputs": [],
   "source": [
    "poly = PolynomialFeatures(degree = 2).fit(X_train_transformed)\n",
    "X_train_poly = poly.transform(X_train_transformed_scaled)\n",
    "X_test_poly = poly.transform(X_test_transformed_scaled)"
   ]
  },
  {
   "cell_type": "code",
   "execution_count": 91,
   "id": "b440ff11",
   "metadata": {},
   "outputs": [
    {
     "name": "stdout",
     "output_type": "stream",
     "text": [
      "['1' 'Fare' 'FamilySize' 'Imputed' 'Pclass_2' 'Pclass_3' 'Sex_male'\n",
      " 'Age_Adult' 'Age_Elder' 'Embarked_Q' 'Embarked_S' 'Titles_Miss'\n",
      " 'Titles_Mr' 'Titles_Mrs' 'Titles_Other' 'Fare^2' 'Fare FamilySize'\n",
      " 'Fare Imputed' 'Fare Pclass_2' 'Fare Pclass_3' 'Fare Sex_male'\n",
      " 'Fare Age_Adult' 'Fare Age_Elder' 'Fare Embarked_Q' 'Fare Embarked_S'\n",
      " 'Fare Titles_Miss' 'Fare Titles_Mr' 'Fare Titles_Mrs' 'Fare Titles_Other'\n",
      " 'FamilySize^2' 'FamilySize Imputed' 'FamilySize Pclass_2'\n",
      " 'FamilySize Pclass_3' 'FamilySize Sex_male' 'FamilySize Age_Adult'\n",
      " 'FamilySize Age_Elder' 'FamilySize Embarked_Q' 'FamilySize Embarked_S'\n",
      " 'FamilySize Titles_Miss' 'FamilySize Titles_Mr' 'FamilySize Titles_Mrs'\n",
      " 'FamilySize Titles_Other' 'Imputed^2' 'Imputed Pclass_2'\n",
      " 'Imputed Pclass_3' 'Imputed Sex_male' 'Imputed Age_Adult'\n",
      " 'Imputed Age_Elder' 'Imputed Embarked_Q' 'Imputed Embarked_S'\n",
      " 'Imputed Titles_Miss' 'Imputed Titles_Mr' 'Imputed Titles_Mrs'\n",
      " 'Imputed Titles_Other' 'Pclass_2^2' 'Pclass_2 Pclass_3'\n",
      " 'Pclass_2 Sex_male' 'Pclass_2 Age_Adult' 'Pclass_2 Age_Elder'\n",
      " 'Pclass_2 Embarked_Q' 'Pclass_2 Embarked_S' 'Pclass_2 Titles_Miss'\n",
      " 'Pclass_2 Titles_Mr' 'Pclass_2 Titles_Mrs' 'Pclass_2 Titles_Other'\n",
      " 'Pclass_3^2' 'Pclass_3 Sex_male' 'Pclass_3 Age_Adult'\n",
      " 'Pclass_3 Age_Elder' 'Pclass_3 Embarked_Q' 'Pclass_3 Embarked_S'\n",
      " 'Pclass_3 Titles_Miss' 'Pclass_3 Titles_Mr' 'Pclass_3 Titles_Mrs'\n",
      " 'Pclass_3 Titles_Other' 'Sex_male^2' 'Sex_male Age_Adult'\n",
      " 'Sex_male Age_Elder' 'Sex_male Embarked_Q' 'Sex_male Embarked_S'\n",
      " 'Sex_male Titles_Miss' 'Sex_male Titles_Mr' 'Sex_male Titles_Mrs'\n",
      " 'Sex_male Titles_Other' 'Age_Adult^2' 'Age_Adult Age_Elder'\n",
      " 'Age_Adult Embarked_Q' 'Age_Adult Embarked_S' 'Age_Adult Titles_Miss'\n",
      " 'Age_Adult Titles_Mr' 'Age_Adult Titles_Mrs' 'Age_Adult Titles_Other'\n",
      " 'Age_Elder^2' 'Age_Elder Embarked_Q' 'Age_Elder Embarked_S'\n",
      " 'Age_Elder Titles_Miss' 'Age_Elder Titles_Mr' 'Age_Elder Titles_Mrs'\n",
      " 'Age_Elder Titles_Other' 'Embarked_Q^2' 'Embarked_Q Embarked_S'\n",
      " 'Embarked_Q Titles_Miss' 'Embarked_Q Titles_Mr' 'Embarked_Q Titles_Mrs'\n",
      " 'Embarked_Q Titles_Other' 'Embarked_S^2' 'Embarked_S Titles_Miss'\n",
      " 'Embarked_S Titles_Mr' 'Embarked_S Titles_Mrs' 'Embarked_S Titles_Other'\n",
      " 'Titles_Miss^2' 'Titles_Miss Titles_Mr' 'Titles_Miss Titles_Mrs'\n",
      " 'Titles_Miss Titles_Other' 'Titles_Mr^2' 'Titles_Mr Titles_Mrs'\n",
      " 'Titles_Mr Titles_Other' 'Titles_Mrs^2' 'Titles_Mrs Titles_Other'\n",
      " 'Titles_Other^2']\n"
     ]
    }
   ],
   "source": [
    "print(poly.get_feature_names_out())"
   ]
  },
  {
   "cell_type": "markdown",
   "id": "35e9a595",
   "metadata": {},
   "source": [
    "### Feature selection\n",
    "\n",
    "Feature selection is about chosing the relevant information. It is good to add and generate features, but at some point we need to exclude irrelevant features. Otherwise, we will be penalizing the predictive power of our model. \n",
    "\n",
    "In this work, we will use a univariate statistics approach. This approach selects features based on univariate statistical tests between each feature and the target variable. The intuition is that features that are independent from the target variable, are irrelevant for classification.\n",
    "\n",
    "We will use the chi-squared test for feature selection. This means that we have to choose the number of features that we want in the model. For example, if we want to have three features in our model, the method will select the three features with highest $\\chi^2$ score.\n",
    "\n",
    "Since we don't know the ideal number of features, we will test the method with all the possible number of features and choose the number of features with better performance."
   ]
  },
  {
   "cell_type": "markdown",
   "id": "fbb4f53f",
   "metadata": {},
   "source": [
    "#### Univariate statistics"
   ]
  },
  {
   "cell_type": "code",
   "execution_count": 95,
   "id": "300c1304",
   "metadata": {},
   "outputs": [
    {
     "name": "stdout",
     "output_type": "stream",
     "text": [
      "CV accuracy (original): 0.827 +/- 0.030 \n",
      "\n",
      "CV accuracy (number of features = 1): 0.789 +/- 0.046\n",
      "The original is better \n",
      "\n",
      "CV accuracy (number of features = 2): 0.789 +/- 0.046\n",
      "The original is better \n",
      "\n",
      "CV accuracy (number of features = 3): 0.789 +/- 0.046\n",
      "The original is better \n",
      "\n",
      "CV accuracy (number of features = 4): 0.789 +/- 0.046\n",
      "The original is better \n",
      "\n",
      "CV accuracy (number of features = 5): 0.788 +/- 0.044\n",
      "The original is better \n",
      "\n",
      "CV accuracy (number of features = 6): 0.788 +/- 0.044\n",
      "The original is better \n",
      "\n",
      "CV accuracy (number of features = 7): 0.789 +/- 0.046\n",
      "The original is better \n",
      "\n",
      "CV accuracy (number of features = 8): 0.789 +/- 0.045\n",
      "The original is better \n",
      "\n",
      "CV accuracy (number of features = 9): 0.789 +/- 0.045\n",
      "The original is better \n",
      "\n",
      "CV accuracy (number of features = 10): 0.787 +/- 0.042\n",
      "The original is better \n",
      "\n",
      "CV accuracy (number of features = 11): 0.787 +/- 0.042\n",
      "The original is better \n",
      "\n",
      "CV accuracy (number of features = 12): 0.796 +/- 0.036\n",
      "The original is better \n",
      "\n",
      "CV accuracy (number of features = 13): 0.796 +/- 0.036\n",
      "The original is better \n",
      "\n",
      "CV accuracy (number of features = 14): 0.796 +/- 0.036\n",
      "The original is better \n",
      "\n",
      "CV accuracy (number of features = 15): 0.795 +/- 0.035\n",
      "The original is better \n",
      "\n",
      "CV accuracy (number of features = 16): 0.795 +/- 0.035\n",
      "The original is better \n",
      "\n",
      "CV accuracy (number of features = 17): 0.795 +/- 0.035\n",
      "The original is better \n",
      "\n",
      "CV accuracy (number of features = 18): 0.795 +/- 0.035\n",
      "The original is better \n",
      "\n",
      "CV accuracy (number of features = 19): 0.795 +/- 0.035\n",
      "The original is better \n",
      "\n",
      "CV accuracy (number of features = 20): 0.795 +/- 0.035\n",
      "The original is better \n",
      "\n",
      "CV accuracy (number of features = 21): 0.798 +/- 0.043\n",
      "The original is better \n",
      "\n",
      "CV accuracy (number of features = 22): 0.802 +/- 0.041\n",
      "The original is better \n",
      "\n",
      "CV accuracy (number of features = 23): 0.789 +/- 0.040\n",
      "The original is better \n",
      "\n",
      "CV accuracy (number of features = 24): 0.806 +/- 0.030\n",
      "The original is better \n",
      "\n",
      "CV accuracy (number of features = 25): 0.808 +/- 0.035\n",
      "The original is better \n",
      "\n",
      "CV accuracy (number of features = 26): 0.812 +/- 0.041\n",
      "The original is better \n",
      "\n",
      "CV accuracy (number of features = 27): 0.809 +/- 0.041\n",
      "The original is better \n",
      "\n",
      "CV accuracy (number of features = 28): 0.808 +/- 0.040\n",
      "The original is better \n",
      "\n",
      "CV accuracy (number of features = 29): 0.816 +/- 0.039\n",
      "The original is better \n",
      "\n",
      "CV accuracy (number of features = 30): 0.817 +/- 0.039\n",
      "The original is better \n",
      "\n",
      "CV accuracy (number of features = 31): 0.817 +/- 0.039\n",
      "The original is better \n",
      "\n",
      "CV accuracy (number of features = 32): 0.817 +/- 0.037\n",
      "The original is better \n",
      "\n",
      "CV accuracy (number of features = 33): 0.817 +/- 0.037\n",
      "The original is better \n",
      "\n",
      "CV accuracy (number of features = 34): 0.819 +/- 0.040\n",
      "The original is better \n",
      "\n",
      "CV accuracy (number of features = 35): 0.816 +/- 0.042\n",
      "The original is better \n",
      "\n",
      "CV accuracy (number of features = 36): 0.822 +/- 0.040\n",
      "The original is better \n",
      "\n",
      "CV accuracy (number of features = 37): 0.822 +/- 0.040\n",
      "The original is better \n",
      "\n",
      "CV accuracy (number of features = 38): 0.822 +/- 0.040\n",
      "The original is better \n",
      "\n",
      "CV accuracy (number of features = 39): 0.822 +/- 0.040\n",
      "The original is better \n",
      "\n",
      "CV accuracy (number of features = 40): 0.822 +/- 0.040\n",
      "The original is better \n",
      "\n",
      "CV accuracy (number of features = 41): 0.820 +/- 0.039\n",
      "The original is better \n",
      "\n",
      "CV accuracy (number of features = 42): 0.822 +/- 0.041\n",
      "The original is better \n",
      "\n",
      "CV accuracy (number of features = 43): 0.822 +/- 0.041\n",
      "The original is better \n",
      "\n",
      "CV accuracy (number of features = 44): 0.820 +/- 0.039\n",
      "The original is better \n",
      "\n",
      "CV accuracy (number of features = 45): 0.820 +/- 0.037\n",
      "The original is better \n",
      "\n",
      "CV accuracy (number of features = 46): 0.820 +/- 0.037\n",
      "The original is better \n",
      "\n",
      "CV accuracy (number of features = 47): 0.820 +/- 0.037\n",
      "The original is better \n",
      "\n",
      "CV accuracy (number of features = 48): 0.822 +/- 0.034\n",
      "The original is better \n",
      "\n",
      "CV accuracy (number of features = 49): 0.822 +/- 0.034\n",
      "The original is better \n",
      "\n",
      "CV accuracy (number of features = 50): 0.822 +/- 0.034\n",
      "The original is better \n",
      "\n",
      "CV accuracy (number of features = 51): 0.822 +/- 0.034\n",
      "The original is better \n",
      "\n",
      "CV accuracy (number of features = 52): 0.823 +/- 0.032\n",
      "The original is better \n",
      "\n",
      "CV accuracy (number of features = 53): 0.823 +/- 0.032\n",
      "The original is better \n",
      "\n",
      "CV accuracy (number of features = 54): 0.823 +/- 0.032\n",
      "The original is better \n",
      "\n",
      "CV accuracy (number of features = 55): 0.823 +/- 0.032\n",
      "The original is better \n",
      "\n",
      "CV accuracy (number of features = 56): 0.823 +/- 0.032\n",
      "The original is better \n",
      "\n",
      "CV accuracy (number of features = 57): 0.823 +/- 0.032\n",
      "The original is better \n",
      "\n",
      "CV accuracy (number of features = 58): 0.823 +/- 0.032\n",
      "The original is better \n",
      "\n",
      "CV accuracy (number of features = 59): 0.823 +/- 0.032\n",
      "The original is better \n",
      "\n",
      "CV accuracy (number of features = 60): 0.823 +/- 0.035\n",
      "The original is better \n",
      "\n",
      "CV accuracy (number of features = 61): 0.823 +/- 0.035\n",
      "The original is better \n",
      "\n",
      "CV accuracy (number of features = 62): 0.823 +/- 0.035\n",
      "The original is better \n",
      "\n",
      "CV accuracy (number of features = 63): 0.823 +/- 0.035\n",
      "The original is better \n",
      "\n",
      "CV accuracy (number of features = 64): 0.823 +/- 0.035\n",
      "The original is better \n",
      "\n",
      "CV accuracy (number of features = 65): 0.823 +/- 0.035\n",
      "The original is better \n",
      "\n",
      "CV accuracy (number of features = 66): 0.826 +/- 0.034\n",
      "The original is better \n",
      "\n",
      "CV accuracy (number of features = 67): 0.826 +/- 0.034\n",
      "The original is better \n",
      "\n",
      "CV accuracy (number of features = 68): 0.826 +/- 0.034\n",
      "The original is better \n",
      "\n",
      "CV accuracy (number of features = 69): 0.826 +/- 0.034\n",
      "The original is better \n",
      "\n",
      "CV accuracy (number of features = 70): 0.826 +/- 0.035\n",
      "The original is better \n",
      "\n",
      "CV accuracy (number of features = 71): 0.825 +/- 0.036\n",
      "The original is better \n",
      "\n",
      "CV accuracy (number of features = 72): 0.825 +/- 0.036\n",
      "The original is better \n",
      "\n",
      "CV accuracy (number of features = 73): 0.825 +/- 0.036\n",
      "The original is better \n",
      "\n",
      "CV accuracy (number of features = 74): 0.825 +/- 0.036\n",
      "The original is better \n",
      "\n",
      "CV accuracy (number of features = 75): 0.825 +/- 0.036\n",
      "The original is better \n",
      "\n",
      "CV accuracy (number of features = 76): 0.825 +/- 0.036\n",
      "The original is better \n",
      "\n",
      "CV accuracy (number of features = 77): 0.825 +/- 0.035\n",
      "The original is better \n",
      "\n",
      "CV accuracy (number of features = 78): 0.827 +/- 0.033\n",
      "The original is better \n",
      "\n",
      "CV accuracy (number of features = 79): 0.827 +/- 0.033\n",
      "The original is better \n",
      "\n",
      "CV accuracy (number of features = 80): 0.827 +/- 0.033\n",
      "The original is better \n",
      "\n",
      "CV accuracy (number of features = 81): 0.826 +/- 0.034\n",
      "The original is better \n",
      "\n",
      "CV accuracy (number of features = 82): 0.826 +/- 0.034\n",
      "The original is better \n",
      "\n",
      "CV accuracy (number of features = 83): 0.826 +/- 0.034\n",
      "The original is better \n",
      "\n",
      "CV accuracy (number of features = 84): 0.826 +/- 0.034\n",
      "The original is better \n",
      "\n",
      "CV accuracy (number of features = 85): 0.823 +/- 0.036\n",
      "The original is better \n",
      "\n",
      "CV accuracy (number of features = 86): 0.823 +/- 0.036\n",
      "The original is better \n",
      "\n",
      "CV accuracy (number of features = 87): 0.823 +/- 0.036\n",
      "The original is better \n",
      "\n",
      "CV accuracy (number of features = 88): 0.823 +/- 0.036\n",
      "The original is better \n",
      "\n",
      "CV accuracy (number of features = 89): 0.823 +/- 0.036\n",
      "The original is better \n",
      "\n",
      "CV accuracy (number of features = 90): 0.823 +/- 0.036\n",
      "The original is better \n",
      "\n",
      "CV accuracy (number of features = 91): 0.826 +/- 0.034\n",
      "The original is better \n",
      "\n",
      "CV accuracy (number of features = 92): 0.826 +/- 0.034\n",
      "The original is better \n",
      "\n",
      "CV accuracy (number of features = 93): 0.825 +/- 0.035\n",
      "The original is better \n",
      "\n",
      "CV accuracy (number of features = 94): 0.824 +/- 0.036\n",
      "The original is better \n",
      "\n",
      "CV accuracy (number of features = 95): 0.826 +/- 0.035\n",
      "The original is better \n",
      "\n",
      "CV accuracy (number of features = 96): 0.826 +/- 0.035\n",
      "The original is better \n",
      "\n",
      "CV accuracy (number of features = 97): 0.824 +/- 0.036\n",
      "The original is better \n",
      "\n",
      "CV accuracy (number of features = 98): 0.824 +/- 0.036\n",
      "The original is better \n",
      "\n",
      "CV accuracy (number of features = 99): 0.824 +/- 0.036\n",
      "The original is better \n",
      "\n",
      "CV accuracy (number of features = 100): 0.824 +/- 0.036\n",
      "The original is better \n",
      "\n",
      "CV accuracy (number of features = 101): 0.826 +/- 0.035\n",
      "The original is better \n",
      "\n",
      "CV accuracy (number of features = 102): 0.826 +/- 0.035\n",
      "The original is better \n",
      "\n"
     ]
    },
    {
     "name": "stdout",
     "output_type": "stream",
     "text": [
      "CV accuracy (number of features = 103): 0.826 +/- 0.035\n",
      "The original is better \n",
      "\n",
      "CV accuracy (number of features = 104): 0.826 +/- 0.035\n",
      "The original is better \n",
      "\n",
      "CV accuracy (number of features = 105): 0.826 +/- 0.035\n",
      "The original is better \n",
      "\n",
      "CV accuracy (number of features = 106): 0.826 +/- 0.035\n",
      "The original is better \n",
      "\n",
      "CV accuracy (number of features = 107): 0.826 +/- 0.035\n",
      "The original is better \n",
      "\n",
      "CV accuracy (number of features = 108): 0.826 +/- 0.035\n",
      "The original is better \n",
      "\n",
      "CV accuracy (number of features = 109): 0.826 +/- 0.035\n",
      "The original is better \n",
      "\n",
      "CV accuracy (number of features = 110): 0.826 +/- 0.035\n",
      "The original is better \n",
      "\n",
      "CV accuracy (number of features = 111): 0.826 +/- 0.035\n",
      "The original is better \n",
      "\n",
      "CV accuracy (number of features = 112): 0.826 +/- 0.035\n",
      "The original is better \n",
      "\n",
      "CV accuracy (number of features = 113): 0.826 +/- 0.035\n",
      "The original is better \n",
      "\n",
      "CV accuracy (number of features = 114): 0.826 +/- 0.035\n",
      "The original is better \n",
      "\n",
      "CV accuracy (number of features = 115): 0.826 +/- 0.035\n",
      "The original is better \n",
      "\n",
      "CV accuracy (number of features = 116): 0.826 +/- 0.035\n",
      "The original is better \n",
      "\n",
      "CV accuracy (number of features = 117): 0.826 +/- 0.035\n",
      "The original is better \n",
      "\n",
      "CV accuracy (number of features = 118): 0.826 +/- 0.035\n",
      "The original is better \n",
      "\n",
      "CV accuracy (number of features = 119): 0.826 +/- 0.035\n",
      "The original is better \n",
      "\n",
      "CV accuracy (number of features = 120): 0.826 +/- 0.035\n",
      "The original is better \n",
      "\n"
     ]
    }
   ],
   "source": [
    "logreg = LogisticRegression(C = 1)\n",
    "logreg.fit(X_train, y_train)\n",
    "scores = cross_val_score(logreg, X_train, y_train, cv = 10)\n",
    "print('CV accuracy (original): %.3f +/- %.3f \\n' % (np.mean(scores), np.std(scores)))\n",
    "highest_score = np.mean(scores)\n",
    "\n",
    "for i in range(1,X_train_poly.shape[1]+1, 1):\n",
    "    select = SelectKBest(score_func = chi2, k = i)\n",
    "    select.fit(X_train_poly, y_train)\n",
    "    X_train_poly_selected = select.transform(X_train_poly)\n",
    "\n",
    "    logreg.fit(X_train_poly_selected, y_train)\n",
    "    scores = cross_val_score(logreg, X_train_poly_selected, y_train, cv=10)\n",
    "    print('CV accuracy (number of features = %i): %.3f +/- %.3f' % (i, np.mean(scores), np.std(scores)))\n",
    "    \n",
    "    if np.mean(scores) > highest_score:\n",
    "        highest_score = np.mean(scores)\n",
    "        std = np.std(scores)\n",
    "        k_features_highest_scores = i\n",
    "    elif np.mean(scores) == highest_score:\n",
    "        if np.std(scores) < std:\n",
    "            highest_score = np.mean(scores)\n",
    "            std = np.std(scores)\n",
    "            k_features_highest_score = i\n",
    "    else:\n",
    "        print('The original is better \\n')"
   ]
  },
  {
   "cell_type": "markdown",
   "id": "ba9fac2d",
   "metadata": {},
   "source": [
    "Supricely the best score come from the logistic regression over the non transform data. Sometimes keep the things simple is the best, I guess."
   ]
  },
  {
   "cell_type": "markdown",
   "id": "3a8d6e78",
   "metadata": {},
   "source": [
    "# 3. The good model\n",
    "\n",
    "Apparently we did an excellent work enriching our data. The enough to have a improved model and use it as our good model."
   ]
  },
  {
   "cell_type": "code",
   "execution_count": 97,
   "id": "4eea4827",
   "metadata": {},
   "outputs": [
    {
     "name": "stdout",
     "output_type": "stream",
     "text": [
      "CV accuracy: 0.827 +/- 0.030 \n",
      "\n"
     ]
    }
   ],
   "source": [
    "logreg = LogisticRegression(C = 1)\n",
    "logreg.fit(X_train, y_train)\n",
    "scores = cross_val_score(logreg, X_train, y_train, cv = 10)\n",
    "print('CV accuracy: %.3f +/- %.3f \\n' % (np.mean(scores), np.std(scores)))"
   ]
  },
  {
   "cell_type": "markdown",
   "id": "92c78937",
   "metadata": {},
   "source": [
    "## Learning Curve"
   ]
  },
  {
   "cell_type": "code",
   "execution_count": 99,
   "id": "f0ce1282",
   "metadata": {},
   "outputs": [
    {
     "data": {
      "text/plain": [
       "<module 'matplotlib.pyplot' from '/opt/anaconda3/envs/datascience/lib/python3.10/site-packages/matplotlib/pyplot.py'>"
      ]
     },
     "execution_count": 99,
     "metadata": {},
     "output_type": "execute_result"
    },
    {
     "data": {
      "image/png": "[encoded data removed]",
      "text/plain": [
       "<Figure size 640x480 with 1 Axes>"
      ]
     },
     "metadata": {},
     "output_type": "display_data"
    }
   ],
   "source": [
    "title = 'Learning Curves (Logistic Regression)'\n",
    "cv = 10\n",
    "plot_learning_curve(logreg, title, X_train, y_train, ylim = (0.7, 1.01), cv = cv, n_jobs = 1)"
   ]
  },
  {
   "cell_type": "markdown",
   "id": "7de24748",
   "metadata": {},
   "source": [
    "No signs of overfitting or underfitting."
   ]
  },
  {
   "cell_type": "markdown",
   "id": "ece535b4",
   "metadata": {},
   "source": [
    "## Validation curve"
   ]
  },
  {
   "cell_type": "code",
   "execution_count": 100,
   "id": "cfb4fdd8",
   "metadata": {},
   "outputs": [
    {
     "data": {
      "text/plain": [
       "<module 'matplotlib.pyplot' from '/opt/anaconda3/envs/datascience/lib/python3.10/site-packages/matplotlib/pyplot.py'>"
      ]
     },
     "execution_count": 100,
     "metadata": {},
     "output_type": "execute_result"
    },
    {
     "data": {
      "image/png": "[encoded data removed]",
      "text/plain": [
       "<Figure size 640x480 with 1 Axes>"
      ]
     },
     "metadata": {},
     "output_type": "display_data"
    }
   ],
   "source": [
    "title = 'Validation Curve (Logistic Regression)'\n",
    "param_name = 'C'\n",
    "param_range = [0.001, 0.01, 0.1, 1.0, 10.0, 100.0]\n",
    "cv = 10\n",
    "plot_validation_curve(estimator = logreg, title = title , X = X_train, y = y_train, param_name = param_name,\n",
    "                      param_range = param_range, ylim = (0.5, 1.01), cv = cv)"
   ]
  },
  {
   "cell_type": "markdown",
   "id": "7c4e7c72",
   "metadata": {},
   "source": [
    "We used C=1 and the model performs well."
   ]
  },
  {
   "cell_type": "markdown",
   "id": "aecf66e8",
   "metadata": {},
   "source": [
    "## Predictions"
   ]
  },
  {
   "cell_type": "code",
   "execution_count": 101,
   "id": "d0cb1dc2",
   "metadata": {},
   "outputs": [],
   "source": [
    "df = pd.read_csv('test.csv')\n",
    "df_org = df.copy()"
   ]
  },
  {
   "cell_type": "markdown",
   "id": "90cc9c4d",
   "metadata": {},
   "source": [
    "### Transforming data"
   ]
  },
  {
   "cell_type": "code",
   "execution_count": 103,
   "id": "56776a33",
   "metadata": {},
   "outputs": [],
   "source": [
    "df['FamilySize'] = df['SibSp'] + df['Parch']\n",
    "df.drop('SibSp',axis=1,inplace=True)\n",
    "df.drop('Parch',axis=1,inplace=True)\n",
    "df.drop(['Name','Ticket','Cabin'], axis=1, inplace=True)\n",
    "\n",
    "df['Titles']=0\n",
    "for i in df:\n",
    "    df['Titles']=df_org['Name'].str.extract('([A-Za-z]+)\\.', expand=False)  \n",
    "df_org['Titles'] = df['Titles']  \n",
    "means = df_org.groupby('Titles')['Age'].mean()\n",
    "map_means = means.to_dict()\n",
    "idx_nan_age = df.loc[np.isnan(df['Age'])].index\n",
    "df.loc[idx_nan_age, 'Age'] = df['Titles'].loc[idx_nan_age].map(map_means)\n",
    "df['Titles'] = df['Titles'].map(titles_dict)\n",
    "df['Titles'] = pd.Categorical(df['Titles'])\n",
    "\n",
    "df['Imputed'] = 0\n",
    "df.loc[idx_nan_age, 'Imputed'] = 1\n",
    "\n",
    "df['Age'] = pd.cut(df['Age'], bins=[0, 12, 50, 200], labels=['Child','Adult','Elder'])\n",
    "\n",
    "passenger_id = df['PassengerId'].values\n",
    "df.drop('PassengerId', axis=1, inplace=True)\n",
    "df['Embarked'] = pd.Categorical(df['Embarked'])\n",
    "df['Pclass'] = pd.Categorical(df['Pclass'])\n",
    "df = pd.get_dummies(df, drop_first=1)\n",
    "\n",
    "df = df.fillna(df.mean())  # There is one missing value in 'Fare'\n",
    "\n",
    "X = df[df.loc[:, df.columns != 'Survived'].columns]"
   ]
  },
  {
   "cell_type": "code",
   "execution_count": 105,
   "id": "528bc1dd",
   "metadata": {},
   "outputs": [],
   "source": [
    "predictions = logreg.predict(X)"
   ]
  },
  {
   "cell_type": "code",
   "execution_count": 106,
   "id": "86722b1e",
   "metadata": {},
   "outputs": [],
   "source": [
    "results = pd.DataFrame({'PassengerId' : passenger_id, 'Survived' : predictions})\n",
    "results.to_csv('Results.csv', index = False)"
   ]
  },
  {
   "cell_type": "markdown",
   "id": "36a6dd02",
   "metadata": {},
   "source": [
    "# 4. Conclusion\n",
    "\n",
    "The aim of this work was to get a good clasification model for this data. We did it improving data quality through exploratory data analysis and clever techniques. Although not all tools were useful they were a good practice for future projects. Because I think the best lesson of this work is that simple models and better data are the wining combination."
   ]
  },
  {
   "cell_type": "code",
   "execution_count": null,
   "id": "629c5858",
   "metadata": {},
   "outputs": [],
   "source": []
  }
 ],
 "metadata": {
  "kernelspec": {
   "display_name": "Python 3 (ipykernel)",
   "language": "python",
   "name": "python3"
  },
  "language_info": {
   "codemirror_mode": {
    "name": "ipython",
    "version": 3
   },
   "file_extension": ".py",
   "mimetype": "text/x-python",
   "name": "python",
   "nbconvert_exporter": "python",
   "pygments_lexer": "ipython3",
   "version": "3.10.6"
  }
 },
 "nbformat": 4,
 "nbformat_minor": 5
}
